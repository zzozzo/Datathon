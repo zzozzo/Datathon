{
 "cells": [
  {
   "cell_type": "code",
   "execution_count": 1,
   "id": "beb58cab",
   "metadata": {},
   "outputs": [],
   "source": [
    "import matplotlib.pyplot as plt\n",
    "\n",
    "import warnings\n",
    "warnings.filterwarnings(\"ignore\")\n",
    "\n",
    "import os\n",
    "from os.path import join\n",
    "\n",
    "import pandas as pd\n",
    "import numpy as np\n",
    "\n",
    "import seaborn as sns"
   ]
  },
  {
   "cell_type": "code",
   "execution_count": 2,
   "id": "ea05682b",
   "metadata": {},
   "outputs": [],
   "source": [
    "data_dir = os.getenv('HOME')+'/aiffel/datathon/data'\n",
    "\n",
    "floating_data_path = join(data_dir, 'SeoulFloating.csv')\n",
    "\n",
    "floating = pd.read_csv(floating_data_path)"
   ]
  },
  {
   "cell_type": "code",
   "execution_count": 3,
   "id": "28ace6eb",
   "metadata": {},
   "outputs": [
    {
     "name": "stdout",
     "output_type": "stream",
     "text": [
      "floating data dim : (1084800, 7)\n"
     ]
    }
   ],
   "source": [
    "print('floating data dim : {}'.format(floating.shape))"
   ]
  },
  {
   "cell_type": "code",
   "execution_count": 4,
   "id": "6f82815a",
   "metadata": {},
   "outputs": [
    {
     "name": "stdout",
     "output_type": "stream",
     "text": [
      "Index(['date', 'hour', 'birth_year', 'sex', 'province', 'city', 'fp_num'], dtype='object')\n"
     ]
    }
   ],
   "source": [
    "print(floating.columns)"
   ]
  },
  {
   "cell_type": "code",
   "execution_count": 5,
   "id": "95b6cd7d",
   "metadata": {},
   "outputs": [
    {
     "name": "stdout",
     "output_type": "stream",
     "text": [
      "<class 'pandas.core.frame.DataFrame'>\n",
      "RangeIndex: 1084800 entries, 0 to 1084799\n",
      "Data columns (total 7 columns):\n",
      " #   Column      Non-Null Count    Dtype \n",
      "---  ------      --------------    ----- \n",
      " 0   date        1084800 non-null  object\n",
      " 1   hour        1084800 non-null  int64 \n",
      " 2   birth_year  1084800 non-null  int64 \n",
      " 3   sex         1084800 non-null  object\n",
      " 4   province    1084800 non-null  object\n",
      " 5   city        1084800 non-null  object\n",
      " 6   fp_num      1084800 non-null  int64 \n",
      "dtypes: int64(3), object(4)\n",
      "memory usage: 57.9+ MB\n"
     ]
    }
   ],
   "source": [
    "floating.info()"
   ]
  },
  {
   "cell_type": "code",
   "execution_count": 6,
   "id": "b047a258",
   "metadata": {},
   "outputs": [
    {
     "data": {
      "text/html": [
       "<div>\n",
       "<style scoped>\n",
       "    .dataframe tbody tr th:only-of-type {\n",
       "        vertical-align: middle;\n",
       "    }\n",
       "\n",
       "    .dataframe tbody tr th {\n",
       "        vertical-align: top;\n",
       "    }\n",
       "\n",
       "    .dataframe thead th {\n",
       "        text-align: right;\n",
       "    }\n",
       "</style>\n",
       "<table border=\"1\" class=\"dataframe\">\n",
       "  <thead>\n",
       "    <tr style=\"text-align: right;\">\n",
       "      <th></th>\n",
       "      <th>date</th>\n",
       "      <th>hour</th>\n",
       "      <th>birth_year</th>\n",
       "      <th>sex</th>\n",
       "      <th>province</th>\n",
       "      <th>city</th>\n",
       "      <th>fp_num</th>\n",
       "    </tr>\n",
       "  </thead>\n",
       "  <tbody>\n",
       "    <tr>\n",
       "      <th>0</th>\n",
       "      <td>2020-01-01</td>\n",
       "      <td>0</td>\n",
       "      <td>20</td>\n",
       "      <td>female</td>\n",
       "      <td>Seoul</td>\n",
       "      <td>Dobong-gu</td>\n",
       "      <td>19140</td>\n",
       "    </tr>\n",
       "    <tr>\n",
       "      <th>1</th>\n",
       "      <td>2020-01-01</td>\n",
       "      <td>0</td>\n",
       "      <td>20</td>\n",
       "      <td>male</td>\n",
       "      <td>Seoul</td>\n",
       "      <td>Dobong-gu</td>\n",
       "      <td>19950</td>\n",
       "    </tr>\n",
       "    <tr>\n",
       "      <th>2</th>\n",
       "      <td>2020-01-01</td>\n",
       "      <td>0</td>\n",
       "      <td>20</td>\n",
       "      <td>female</td>\n",
       "      <td>Seoul</td>\n",
       "      <td>Dongdaemun-gu</td>\n",
       "      <td>25450</td>\n",
       "    </tr>\n",
       "    <tr>\n",
       "      <th>3</th>\n",
       "      <td>2020-01-01</td>\n",
       "      <td>0</td>\n",
       "      <td>20</td>\n",
       "      <td>male</td>\n",
       "      <td>Seoul</td>\n",
       "      <td>Dongdaemun-gu</td>\n",
       "      <td>27050</td>\n",
       "    </tr>\n",
       "    <tr>\n",
       "      <th>4</th>\n",
       "      <td>2020-01-01</td>\n",
       "      <td>0</td>\n",
       "      <td>20</td>\n",
       "      <td>female</td>\n",
       "      <td>Seoul</td>\n",
       "      <td>Dongjag-gu</td>\n",
       "      <td>28880</td>\n",
       "    </tr>\n",
       "  </tbody>\n",
       "</table>\n",
       "</div>"
      ],
      "text/plain": [
       "         date  hour  birth_year     sex province           city  fp_num\n",
       "0  2020-01-01     0          20  female    Seoul      Dobong-gu   19140\n",
       "1  2020-01-01     0          20    male    Seoul      Dobong-gu   19950\n",
       "2  2020-01-01     0          20  female    Seoul  Dongdaemun-gu   25450\n",
       "3  2020-01-01     0          20    male    Seoul  Dongdaemun-gu   27050\n",
       "4  2020-01-01     0          20  female    Seoul     Dongjag-gu   28880"
      ]
     },
     "execution_count": 6,
     "metadata": {},
     "output_type": "execute_result"
    }
   ],
   "source": [
    "floating.head()"
   ]
  },
  {
   "cell_type": "code",
   "execution_count": 7,
   "id": "bf037159",
   "metadata": {},
   "outputs": [
    {
     "data": {
      "text/html": [
       "<div>\n",
       "<style scoped>\n",
       "    .dataframe tbody tr th:only-of-type {\n",
       "        vertical-align: middle;\n",
       "    }\n",
       "\n",
       "    .dataframe tbody tr th {\n",
       "        vertical-align: top;\n",
       "    }\n",
       "\n",
       "    .dataframe thead th {\n",
       "        text-align: right;\n",
       "    }\n",
       "</style>\n",
       "<table border=\"1\" class=\"dataframe\">\n",
       "  <thead>\n",
       "    <tr style=\"text-align: right;\">\n",
       "      <th></th>\n",
       "      <th>date</th>\n",
       "      <th>hour</th>\n",
       "      <th>birth_year</th>\n",
       "      <th>sex</th>\n",
       "      <th>province</th>\n",
       "      <th>city</th>\n",
       "      <th>fp_num</th>\n",
       "    </tr>\n",
       "  </thead>\n",
       "  <tbody>\n",
       "    <tr>\n",
       "      <th>1084795</th>\n",
       "      <td>2020-05-31</td>\n",
       "      <td>21</td>\n",
       "      <td>40</td>\n",
       "      <td>female</td>\n",
       "      <td>Seoul</td>\n",
       "      <td>Dobong-gu</td>\n",
       "      <td>27620</td>\n",
       "    </tr>\n",
       "    <tr>\n",
       "      <th>1084796</th>\n",
       "      <td>2020-05-31</td>\n",
       "      <td>21</td>\n",
       "      <td>40</td>\n",
       "      <td>female</td>\n",
       "      <td>Seoul</td>\n",
       "      <td>Songpa-gu</td>\n",
       "      <td>56560</td>\n",
       "    </tr>\n",
       "    <tr>\n",
       "      <th>1084797</th>\n",
       "      <td>2020-05-31</td>\n",
       "      <td>21</td>\n",
       "      <td>50</td>\n",
       "      <td>female</td>\n",
       "      <td>Seoul</td>\n",
       "      <td>Gangdong-gu</td>\n",
       "      <td>38960</td>\n",
       "    </tr>\n",
       "    <tr>\n",
       "      <th>1084798</th>\n",
       "      <td>2020-05-31</td>\n",
       "      <td>22</td>\n",
       "      <td>60</td>\n",
       "      <td>female</td>\n",
       "      <td>Seoul</td>\n",
       "      <td>Guro-gu</td>\n",
       "      <td>25420</td>\n",
       "    </tr>\n",
       "    <tr>\n",
       "      <th>1084799</th>\n",
       "      <td>2020-05-31</td>\n",
       "      <td>23</td>\n",
       "      <td>40</td>\n",
       "      <td>male</td>\n",
       "      <td>Seoul</td>\n",
       "      <td>Eunpyeong-gu</td>\n",
       "      <td>38650</td>\n",
       "    </tr>\n",
       "  </tbody>\n",
       "</table>\n",
       "</div>"
      ],
      "text/plain": [
       "               date  hour  birth_year     sex province          city  fp_num\n",
       "1084795  2020-05-31    21          40  female    Seoul     Dobong-gu   27620\n",
       "1084796  2020-05-31    21          40  female    Seoul     Songpa-gu   56560\n",
       "1084797  2020-05-31    21          50  female    Seoul   Gangdong-gu   38960\n",
       "1084798  2020-05-31    22          60  female    Seoul       Guro-gu   25420\n",
       "1084799  2020-05-31    23          40    male    Seoul  Eunpyeong-gu   38650"
      ]
     },
     "execution_count": 7,
     "metadata": {},
     "output_type": "execute_result"
    }
   ],
   "source": [
    "floating.tail()"
   ]
  },
  {
   "cell_type": "code",
   "execution_count": 8,
   "id": "df9df538",
   "metadata": {},
   "outputs": [
    {
     "data": {
      "image/png": "[encoded data removed]",
      "text/plain": [
       "<Figure size 432x288 with 1 Axes>"
      ]
     },
     "metadata": {
      "needs_background": "light"
     },
     "output_type": "display_data"
    }
   ],
   "source": [
    "sns.kdeplot(floating['fp_num'])\n",
    "plt.show()"
   ]
  },
  {
   "cell_type": "code",
   "execution_count": 9,
   "id": "42e87a45",
   "metadata": {},
   "outputs": [
    {
     "data": {
      "image/png": "[encoded data removed]",
      "text/plain": [
       "<Figure size 720x360 with 1 Axes>"
      ]
     },
     "metadata": {
      "needs_background": "light"
     },
     "output_type": "display_data"
    }
   ],
   "source": [
    "plt.figure(figsize=(10,5)) # 빈 캔버스 사이즈 지정\n",
    "dist=sns.distplot(floating['fp_num'],kde=False) # kde=False를 넣어보자\n",
    "dist.set_xlabel(\"바이크 주행 시간(분)\")\n",
    "dist.set_ylabel(\"비율\")\n",
    "plt.show() # 다 그려진 캔버스 보여주기"
   ]
  },
  {
   "cell_type": "markdown",
   "id": "d78136d9",
   "metadata": {},
   "source": [
    "# 정부 정책에 따른 확진자수 변화 "
   ]
  },
  {
   "cell_type": "code",
   "execution_count": 10,
   "id": "9e93db58",
   "metadata": {},
   "outputs": [],
   "source": [
    "data_dir = os.getenv('HOME')+'/aiffel/datathon/data'\n",
    "\n",
    "policy_data_path = join(data_dir, 'Policy.csv')\n",
    "\n",
    "policy = pd.read_csv(policy_data_path)"
   ]
  },
  {
   "cell_type": "code",
   "execution_count": 11,
   "id": "a5c24aee",
   "metadata": {},
   "outputs": [
    {
     "data": {
      "text/html": [
       "<div>\n",
       "<style scoped>\n",
       "    .dataframe tbody tr th:only-of-type {\n",
       "        vertical-align: middle;\n",
       "    }\n",
       "\n",
       "    .dataframe tbody tr th {\n",
       "        vertical-align: top;\n",
       "    }\n",
       "\n",
       "    .dataframe thead th {\n",
       "        text-align: right;\n",
       "    }\n",
       "</style>\n",
       "<table border=\"1\" class=\"dataframe\">\n",
       "  <thead>\n",
       "    <tr style=\"text-align: right;\">\n",
       "      <th></th>\n",
       "      <th>policy_id</th>\n",
       "      <th>country</th>\n",
       "      <th>type</th>\n",
       "      <th>gov_policy</th>\n",
       "      <th>detail</th>\n",
       "      <th>start_date</th>\n",
       "      <th>end_date</th>\n",
       "    </tr>\n",
       "  </thead>\n",
       "  <tbody>\n",
       "    <tr>\n",
       "      <th>56</th>\n",
       "      <td>57</td>\n",
       "      <td>Korea</td>\n",
       "      <td>Transformation</td>\n",
       "      <td>Logistics center</td>\n",
       "      <td>On-site inspection of major logistics faciliti...</td>\n",
       "      <td>2020-05-29</td>\n",
       "      <td>2020-06-11</td>\n",
       "    </tr>\n",
       "    <tr>\n",
       "      <th>57</th>\n",
       "      <td>58</td>\n",
       "      <td>Korea</td>\n",
       "      <td>Transformation</td>\n",
       "      <td>Wearing of masks</td>\n",
       "      <td>Mandatory wearing of passenger mask domestic, ...</td>\n",
       "      <td>2020-05-27</td>\n",
       "      <td>NaN</td>\n",
       "    </tr>\n",
       "    <tr>\n",
       "      <th>58</th>\n",
       "      <td>59</td>\n",
       "      <td>Korea</td>\n",
       "      <td>Transformation</td>\n",
       "      <td>Wearing of masks</td>\n",
       "      <td>Drivers such as buses and taxis can refuse to ...</td>\n",
       "      <td>2020-05-26</td>\n",
       "      <td>NaN</td>\n",
       "    </tr>\n",
       "    <tr>\n",
       "      <th>59</th>\n",
       "      <td>60</td>\n",
       "      <td>Korea</td>\n",
       "      <td>Technology</td>\n",
       "      <td>KI-Pass: Korea Internet - Pass</td>\n",
       "      <td>new quick response (QR) code system this week ...</td>\n",
       "      <td>2020-06-10</td>\n",
       "      <td>NaN</td>\n",
       "    </tr>\n",
       "    <tr>\n",
       "      <th>60</th>\n",
       "      <td>61</td>\n",
       "      <td>Korea</td>\n",
       "      <td>Health</td>\n",
       "      <td>Extends Tightened Quarantine Measures</td>\n",
       "      <td>Gov't Extends Tightened Quarantine Measures in...</td>\n",
       "      <td>2020-05-28</td>\n",
       "      <td>2020-06-14</td>\n",
       "    </tr>\n",
       "  </tbody>\n",
       "</table>\n",
       "</div>"
      ],
      "text/plain": [
       "    policy_id country            type                              gov_policy  \\\n",
       "56         57   Korea  Transformation                        Logistics center   \n",
       "57         58   Korea  Transformation                        Wearing of masks   \n",
       "58         59   Korea  Transformation                        Wearing of masks   \n",
       "59         60   Korea      Technology          KI-Pass: Korea Internet - Pass   \n",
       "60         61   Korea          Health  Extends Tightened Quarantine Measures    \n",
       "\n",
       "                                               detail  start_date    end_date  \n",
       "56  On-site inspection of major logistics faciliti...  2020-05-29  2020-06-11  \n",
       "57  Mandatory wearing of passenger mask domestic, ...  2020-05-27         NaN  \n",
       "58  Drivers such as buses and taxis can refuse to ...  2020-05-26         NaN  \n",
       "59  new quick response (QR) code system this week ...  2020-06-10         NaN  \n",
       "60  Gov't Extends Tightened Quarantine Measures in...  2020-05-28  2020-06-14  "
      ]
     },
     "execution_count": 11,
     "metadata": {},
     "output_type": "execute_result"
    }
   ],
   "source": [
    "policy.tail()"
   ]
  },
  {
   "cell_type": "code",
   "execution_count": 12,
   "id": "ca198cb5",
   "metadata": {},
   "outputs": [
    {
     "name": "stdout",
     "output_type": "stream",
     "text": [
      "(5165, 14)\n"
     ]
    }
   ],
   "source": [
    "patient_data_path = join(data_dir, 'PatientInfo.csv')\n",
    "\n",
    "patient = pd.read_csv(patient_data_path)\n",
    "#patient[\"confirmed_date\"] = pd.to_datetime(patient[\"confirmed_date\"])\n",
    "print(patient.shape)"
   ]
  },
  {
   "cell_type": "code",
   "execution_count": 13,
   "id": "c7d619c6",
   "metadata": {
    "scrolled": true
   },
   "outputs": [
    {
     "data": {
      "text/html": [
       "<div>\n",
       "<style scoped>\n",
       "    .dataframe tbody tr th:only-of-type {\n",
       "        vertical-align: middle;\n",
       "    }\n",
       "\n",
       "    .dataframe tbody tr th {\n",
       "        vertical-align: top;\n",
       "    }\n",
       "\n",
       "    .dataframe thead th {\n",
       "        text-align: right;\n",
       "    }\n",
       "</style>\n",
       "<table border=\"1\" class=\"dataframe\">\n",
       "  <thead>\n",
       "    <tr style=\"text-align: right;\">\n",
       "      <th></th>\n",
       "      <th>patient_id</th>\n",
       "      <th>sex</th>\n",
       "      <th>age</th>\n",
       "      <th>country</th>\n",
       "      <th>province</th>\n",
       "      <th>city</th>\n",
       "      <th>infection_case</th>\n",
       "      <th>infected_by</th>\n",
       "      <th>contact_number</th>\n",
       "      <th>symptom_onset_date</th>\n",
       "      <th>confirmed_date</th>\n",
       "      <th>released_date</th>\n",
       "      <th>deceased_date</th>\n",
       "      <th>state</th>\n",
       "    </tr>\n",
       "  </thead>\n",
       "  <tbody>\n",
       "    <tr>\n",
       "      <th>5160</th>\n",
       "      <td>7000000015</td>\n",
       "      <td>female</td>\n",
       "      <td>30s</td>\n",
       "      <td>Korea</td>\n",
       "      <td>Jeju-do</td>\n",
       "      <td>Jeju-do</td>\n",
       "      <td>overseas inflow</td>\n",
       "      <td>NaN</td>\n",
       "      <td>25</td>\n",
       "      <td>NaN</td>\n",
       "      <td>2020-05-30</td>\n",
       "      <td>2020-06-13</td>\n",
       "      <td>NaN</td>\n",
       "      <td>released</td>\n",
       "    </tr>\n",
       "    <tr>\n",
       "      <th>5161</th>\n",
       "      <td>7000000016</td>\n",
       "      <td>NaN</td>\n",
       "      <td>NaN</td>\n",
       "      <td>Korea</td>\n",
       "      <td>Jeju-do</td>\n",
       "      <td>Jeju-do</td>\n",
       "      <td>overseas inflow</td>\n",
       "      <td>NaN</td>\n",
       "      <td>NaN</td>\n",
       "      <td>NaN</td>\n",
       "      <td>2020-06-16</td>\n",
       "      <td>2020-06-24</td>\n",
       "      <td>NaN</td>\n",
       "      <td>released</td>\n",
       "    </tr>\n",
       "    <tr>\n",
       "      <th>5162</th>\n",
       "      <td>7000000017</td>\n",
       "      <td>NaN</td>\n",
       "      <td>NaN</td>\n",
       "      <td>Bangladesh</td>\n",
       "      <td>Jeju-do</td>\n",
       "      <td>Jeju-do</td>\n",
       "      <td>overseas inflow</td>\n",
       "      <td>NaN</td>\n",
       "      <td>72</td>\n",
       "      <td>NaN</td>\n",
       "      <td>2020-06-18</td>\n",
       "      <td>NaN</td>\n",
       "      <td>NaN</td>\n",
       "      <td>isolated</td>\n",
       "    </tr>\n",
       "    <tr>\n",
       "      <th>5163</th>\n",
       "      <td>7000000018</td>\n",
       "      <td>NaN</td>\n",
       "      <td>NaN</td>\n",
       "      <td>Bangladesh</td>\n",
       "      <td>Jeju-do</td>\n",
       "      <td>Jeju-do</td>\n",
       "      <td>overseas inflow</td>\n",
       "      <td>NaN</td>\n",
       "      <td>NaN</td>\n",
       "      <td>NaN</td>\n",
       "      <td>2020-06-18</td>\n",
       "      <td>NaN</td>\n",
       "      <td>NaN</td>\n",
       "      <td>isolated</td>\n",
       "    </tr>\n",
       "    <tr>\n",
       "      <th>5164</th>\n",
       "      <td>7000000019</td>\n",
       "      <td>NaN</td>\n",
       "      <td>NaN</td>\n",
       "      <td>Bangladesh</td>\n",
       "      <td>Jeju-do</td>\n",
       "      <td>Jeju-do</td>\n",
       "      <td>overseas inflow</td>\n",
       "      <td>NaN</td>\n",
       "      <td>NaN</td>\n",
       "      <td>NaN</td>\n",
       "      <td>2020-06-18</td>\n",
       "      <td>NaN</td>\n",
       "      <td>NaN</td>\n",
       "      <td>isolated</td>\n",
       "    </tr>\n",
       "  </tbody>\n",
       "</table>\n",
       "</div>"
      ],
      "text/plain": [
       "      patient_id     sex  age     country province     city   infection_case  \\\n",
       "5160  7000000015  female  30s       Korea  Jeju-do  Jeju-do  overseas inflow   \n",
       "5161  7000000016     NaN  NaN       Korea  Jeju-do  Jeju-do  overseas inflow   \n",
       "5162  7000000017     NaN  NaN  Bangladesh  Jeju-do  Jeju-do  overseas inflow   \n",
       "5163  7000000018     NaN  NaN  Bangladesh  Jeju-do  Jeju-do  overseas inflow   \n",
       "5164  7000000019     NaN  NaN  Bangladesh  Jeju-do  Jeju-do  overseas inflow   \n",
       "\n",
       "     infected_by contact_number symptom_onset_date confirmed_date  \\\n",
       "5160         NaN             25                NaN     2020-05-30   \n",
       "5161         NaN            NaN                NaN     2020-06-16   \n",
       "5162         NaN             72                NaN     2020-06-18   \n",
       "5163         NaN            NaN                NaN     2020-06-18   \n",
       "5164         NaN            NaN                NaN     2020-06-18   \n",
       "\n",
       "     released_date deceased_date     state  \n",
       "5160    2020-06-13           NaN  released  \n",
       "5161    2020-06-24           NaN  released  \n",
       "5162           NaN           NaN  isolated  \n",
       "5163           NaN           NaN  isolated  \n",
       "5164           NaN           NaN  isolated  "
      ]
     },
     "execution_count": 13,
     "metadata": {},
     "output_type": "execute_result"
    }
   ],
   "source": [
    "patient.tail()"
   ]
  },
  {
   "cell_type": "code",
   "execution_count": 14,
   "id": "df7232f9",
   "metadata": {},
   "outputs": [],
   "source": [
    "# patient_null = patient['patient_id'].dropna()\n",
    "# print(patient_null.shape)\n",
    "# patient.tail()"
   ]
  },
  {
   "cell_type": "code",
   "execution_count": 15,
   "id": "9a005aaf",
   "metadata": {},
   "outputs": [
    {
     "name": "stdout",
     "output_type": "stream",
     "text": [
      "DatetimeIndex(['2020-01-20', '2020-01-23', '2020-01-26', '2020-01-27',\n",
      "               '2020-01-30', '2020-01-31', '2020-02-01', '2020-02-02',\n",
      "               '2020-02-03', '2020-02-05',\n",
      "               ...\n",
      "               '2020-06-21', '2020-06-22', '2020-06-23', '2020-06-24',\n",
      "               '2020-06-25', '2020-06-26', '2020-06-27', '2020-06-28',\n",
      "               '2020-06-29', '2020-06-30'],\n",
      "              dtype='datetime64[ns]', length=148, freq=None)\n"
     ]
    },
    {
     "data": {
      "text/plain": [
       "pandas.core.indexes.datetimes.DatetimeIndex"
      ]
     },
     "execution_count": 15,
     "metadata": {},
     "output_type": "execute_result"
    }
   ],
   "source": [
    "#x축\n",
    "from datetime import datetime\n",
    "duration = patient[\"confirmed_date\"].unique()\n",
    "# duration = pd.to_datetime(duration)\n",
    "\n",
    "duration= duration[:-1]\n",
    "duration = pd.to_datetime(duration).sort_values()\n",
    "print(duration)\n",
    "type(duration)\n",
    "# duration=duration.loc[datetime(2020, 1, 23):datetime(2020, 6, 30)]"
   ]
  },
  {
   "cell_type": "code",
   "execution_count": 16,
   "id": "1285c3c9",
   "metadata": {
    "scrolled": true
   },
   "outputs": [
    {
     "name": "stdout",
     "output_type": "stream",
     "text": [
      "(148,)\n"
     ]
    }
   ],
   "source": [
    "#y축\n",
    "# patient.groupby(patient['confirmed_date']).count() \n",
    "confirmed_case = patient[\"confirmed_date\"].value_counts()\n",
    "print(confirmed_case.shape)"
   ]
  },
  {
   "cell_type": "code",
   "execution_count": 17,
   "id": "5714c713",
   "metadata": {},
   "outputs": [
    {
     "data": {
      "image/png": "[encoded data removed]",
      "text/plain": [
       "<Figure size 1440x720 with 1 Axes>"
      ]
     },
     "metadata": {
      "needs_background": "light"
     },
     "output_type": "display_data"
    }
   ],
   "source": [
    "plt.figure(figsize=(20,10)) \n",
    "plt.plot(duration,confirmed_case)\n",
    "plt.show()"
   ]
  },
  {
   "cell_type": "markdown",
   "id": "19c7abbf",
   "metadata": {},
   "source": [
    "확진자 감소 추이가 "
   ]
  },
  {
   "cell_type": "code",
   "execution_count": 18,
   "id": "9f51a8cd",
   "metadata": {},
   "outputs": [
    {
     "name": "stdout",
     "output_type": "stream",
     "text": [
      "(1642, 5)\n"
     ]
    }
   ],
   "source": [
    "search_data_path = join(data_dir, 'SearchTrend.csv')\n",
    "\n",
    "search = pd.read_csv(search_data_path)\n",
    "#patient[\"confirmed_date\"] = pd.to_datetime(patient[\"confirmed_date\"])\n",
    "print(search.shape)"
   ]
  },
  {
   "cell_type": "code",
   "execution_count": 19,
   "id": "d56c01a1",
   "metadata": {},
   "outputs": [
    {
     "data": {
      "text/plain": [
       "Index(['date', 'cold', 'flu', 'pneumonia', 'coronavirus'], dtype='object')"
      ]
     },
     "execution_count": 19,
     "metadata": {},
     "output_type": "execute_result"
    }
   ],
   "source": [
    "search.columns"
   ]
  },
  {
   "cell_type": "code",
   "execution_count": 20,
   "id": "003e74ac",
   "metadata": {},
   "outputs": [
    {
     "name": "stdout",
     "output_type": "stream",
     "text": [
      "<class 'pandas.core.frame.DataFrame'>\n",
      "RangeIndex: 1642 entries, 0 to 1641\n",
      "Data columns (total 5 columns):\n",
      " #   Column       Non-Null Count  Dtype  \n",
      "---  ------       --------------  -----  \n",
      " 0   date         1642 non-null   object \n",
      " 1   cold         1642 non-null   float64\n",
      " 2   flu          1642 non-null   float64\n",
      " 3   pneumonia    1642 non-null   float64\n",
      " 4   coronavirus  1642 non-null   float64\n",
      "dtypes: float64(4), object(1)\n",
      "memory usage: 64.3+ KB\n"
     ]
    }
   ],
   "source": [
    "search.info()"
   ]
  },
  {
   "cell_type": "code",
   "execution_count": 21,
   "id": "1dbbace3",
   "metadata": {},
   "outputs": [],
   "source": [
    "search[\"date\"] = pd.to_datetime(search[\"date\"])"
   ]
  },
  {
   "cell_type": "code",
   "execution_count": 22,
   "id": "4d16ef87",
   "metadata": {},
   "outputs": [
    {
     "data": {
      "text/html": [
       "<div>\n",
       "<style scoped>\n",
       "    .dataframe tbody tr th:only-of-type {\n",
       "        vertical-align: middle;\n",
       "    }\n",
       "\n",
       "    .dataframe tbody tr th {\n",
       "        vertical-align: top;\n",
       "    }\n",
       "\n",
       "    .dataframe thead th {\n",
       "        text-align: right;\n",
       "    }\n",
       "</style>\n",
       "<table border=\"1\" class=\"dataframe\">\n",
       "  <thead>\n",
       "    <tr style=\"text-align: right;\">\n",
       "      <th></th>\n",
       "      <th>date</th>\n",
       "      <th>cold</th>\n",
       "      <th>flu</th>\n",
       "      <th>pneumonia</th>\n",
       "      <th>coronavirus</th>\n",
       "    </tr>\n",
       "  </thead>\n",
       "  <tbody>\n",
       "    <tr>\n",
       "      <th>1461</th>\n",
       "      <td>2020-01-01</td>\n",
       "      <td>0.14454</td>\n",
       "      <td>0.48434</td>\n",
       "      <td>0.44880</td>\n",
       "      <td>0.01699</td>\n",
       "    </tr>\n",
       "    <tr>\n",
       "      <th>1462</th>\n",
       "      <td>2020-01-02</td>\n",
       "      <td>0.19508</td>\n",
       "      <td>0.85751</td>\n",
       "      <td>0.36471</td>\n",
       "      <td>0.01827</td>\n",
       "    </tr>\n",
       "    <tr>\n",
       "      <th>1463</th>\n",
       "      <td>2020-01-03</td>\n",
       "      <td>0.19581</td>\n",
       "      <td>0.80443</td>\n",
       "      <td>0.46598</td>\n",
       "      <td>0.02845</td>\n",
       "    </tr>\n",
       "    <tr>\n",
       "      <th>1464</th>\n",
       "      <td>2020-01-04</td>\n",
       "      <td>0.60343</td>\n",
       "      <td>0.86961</td>\n",
       "      <td>0.49571</td>\n",
       "      <td>0.02136</td>\n",
       "    </tr>\n",
       "    <tr>\n",
       "      <th>1465</th>\n",
       "      <td>2020-01-05</td>\n",
       "      <td>0.20081</td>\n",
       "      <td>0.84152</td>\n",
       "      <td>0.41644</td>\n",
       "      <td>0.01927</td>\n",
       "    </tr>\n",
       "  </tbody>\n",
       "</table>\n",
       "</div>"
      ],
      "text/plain": [
       "           date     cold      flu  pneumonia  coronavirus\n",
       "1461 2020-01-01  0.14454  0.48434    0.44880      0.01699\n",
       "1462 2020-01-02  0.19508  0.85751    0.36471      0.01827\n",
       "1463 2020-01-03  0.19581  0.80443    0.46598      0.02845\n",
       "1464 2020-01-04  0.60343  0.86961    0.49571      0.02136\n",
       "1465 2020-01-05  0.20081  0.84152    0.41644      0.01927"
      ]
     },
     "execution_count": 22,
     "metadata": {},
     "output_type": "execute_result"
    }
   ],
   "source": [
    "cov = search[(search['date']>='2020-01-01') & (search['date']<='2020-05-31')]\n",
    "cov.head()"
   ]
  },
  {
   "cell_type": "code",
   "execution_count": 23,
   "id": "e706d66a",
   "metadata": {},
   "outputs": [],
   "source": [
    "cov = cov.set_index('date')"
   ]
  },
  {
   "cell_type": "code",
   "execution_count": 24,
   "id": "65d6c5d8",
   "metadata": {},
   "outputs": [
    {
     "data": {
      "image/png": "[encoded data removed]",
      "text/plain": [
       "<Figure size 1440x720 with 1 Axes>"
      ]
     },
     "metadata": {
      "needs_background": "light"
     },
     "output_type": "display_data"
    }
   ],
   "source": [
    "cov = cov[\"coronavirus\"]\n",
    "plt.figure(figsize=(20,10)) \n",
    "plt.plot(cov)\n",
    "plt.show()"
   ]
  },
  {
   "cell_type": "code",
   "execution_count": 25,
   "id": "5ee2e03b",
   "metadata": {},
   "outputs": [],
   "source": [
    "floating2 = pd.read_csv(floating_data_path)"
   ]
  },
  {
   "cell_type": "markdown",
   "id": "18a8749a",
   "metadata": {},
   "source": [
    "# 일자별 이동량 합산"
   ]
  },
  {
   "cell_type": "code",
   "execution_count": 26,
   "id": "e758b960",
   "metadata": {},
   "outputs": [
    {
     "data": {
      "text/plain": [
       "date\n",
       "2020-01-01    192406170\n",
       "2020-01-02    202929360\n",
       "2020-01-03    203337150\n",
       "2020-01-04    197396050\n",
       "2020-01-05    195747670\n",
       "                ...    \n",
       "2020-05-27    199293080\n",
       "2020-05-28    199209840\n",
       "2020-05-29    140847320\n",
       "2020-05-30    189674150\n",
       "2020-05-31    188346500\n",
       "Name: fp_num, Length: 151, dtype: int64"
      ]
     },
     "execution_count": 26,
     "metadata": {},
     "output_type": "execute_result"
    }
   ],
   "source": [
    "fl = floating2.groupby(by = 'date').fp_num.agg('sum')\n",
    "fl"
   ]
  },
  {
   "cell_type": "code",
   "execution_count": 27,
   "id": "f8303868",
   "metadata": {},
   "outputs": [
    {
     "data": {
      "text/plain": [
       "'2020-02-23'"
      ]
     },
     "execution_count": 27,
     "metadata": {},
     "output_type": "execute_result"
    }
   ],
   "source": [
    "# a = fl.max()\n",
    "# index = fl.index(a)\n",
    "# index\n",
    "fl[fl == fl.max()].index[0]"
   ]
  },
  {
   "cell_type": "code",
   "execution_count": 28,
   "id": "18474594",
   "metadata": {},
   "outputs": [
    {
     "data": {
      "text/html": [
       "<div>\n",
       "<style scoped>\n",
       "    .dataframe tbody tr th:only-of-type {\n",
       "        vertical-align: middle;\n",
       "    }\n",
       "\n",
       "    .dataframe tbody tr th {\n",
       "        vertical-align: top;\n",
       "    }\n",
       "\n",
       "    .dataframe thead th {\n",
       "        text-align: right;\n",
       "    }\n",
       "</style>\n",
       "<table border=\"1\" class=\"dataframe\">\n",
       "  <thead>\n",
       "    <tr style=\"text-align: right;\">\n",
       "      <th></th>\n",
       "      <th>date</th>\n",
       "      <th>hour</th>\n",
       "      <th>birth_year</th>\n",
       "      <th>sex</th>\n",
       "      <th>province</th>\n",
       "      <th>city</th>\n",
       "      <th>fp_num</th>\n",
       "    </tr>\n",
       "  </thead>\n",
       "  <tbody>\n",
       "    <tr>\n",
       "      <th>381600</th>\n",
       "      <td>2020-02-23</td>\n",
       "      <td>0</td>\n",
       "      <td>20</td>\n",
       "      <td>female</td>\n",
       "      <td>Seoul</td>\n",
       "      <td>Dobong-gu</td>\n",
       "      <td>38930</td>\n",
       "    </tr>\n",
       "    <tr>\n",
       "      <th>381601</th>\n",
       "      <td>2020-02-23</td>\n",
       "      <td>0</td>\n",
       "      <td>20</td>\n",
       "      <td>male</td>\n",
       "      <td>Seoul</td>\n",
       "      <td>Dobong-gu</td>\n",
       "      <td>39140</td>\n",
       "    </tr>\n",
       "    <tr>\n",
       "      <th>381602</th>\n",
       "      <td>2020-02-23</td>\n",
       "      <td>0</td>\n",
       "      <td>20</td>\n",
       "      <td>female</td>\n",
       "      <td>Seoul</td>\n",
       "      <td>Dongdaemun-gu</td>\n",
       "      <td>55030</td>\n",
       "    </tr>\n",
       "    <tr>\n",
       "      <th>381603</th>\n",
       "      <td>2020-02-23</td>\n",
       "      <td>0</td>\n",
       "      <td>20</td>\n",
       "      <td>male</td>\n",
       "      <td>Seoul</td>\n",
       "      <td>Dongdaemun-gu</td>\n",
       "      <td>59200</td>\n",
       "    </tr>\n",
       "    <tr>\n",
       "      <th>381604</th>\n",
       "      <td>2020-02-23</td>\n",
       "      <td>0</td>\n",
       "      <td>20</td>\n",
       "      <td>female</td>\n",
       "      <td>Seoul</td>\n",
       "      <td>Dongjag-gu</td>\n",
       "      <td>62770</td>\n",
       "    </tr>\n",
       "    <tr>\n",
       "      <th>...</th>\n",
       "      <td>...</td>\n",
       "      <td>...</td>\n",
       "      <td>...</td>\n",
       "      <td>...</td>\n",
       "      <td>...</td>\n",
       "      <td>...</td>\n",
       "      <td>...</td>\n",
       "    </tr>\n",
       "    <tr>\n",
       "      <th>388795</th>\n",
       "      <td>2020-02-23</td>\n",
       "      <td>23</td>\n",
       "      <td>70</td>\n",
       "      <td>male</td>\n",
       "      <td>Seoul</td>\n",
       "      <td>Yangcheon-gu</td>\n",
       "      <td>23960</td>\n",
       "    </tr>\n",
       "    <tr>\n",
       "      <th>388796</th>\n",
       "      <td>2020-02-23</td>\n",
       "      <td>23</td>\n",
       "      <td>70</td>\n",
       "      <td>female</td>\n",
       "      <td>Seoul</td>\n",
       "      <td>Yeongdeungpo-gu</td>\n",
       "      <td>35230</td>\n",
       "    </tr>\n",
       "    <tr>\n",
       "      <th>388797</th>\n",
       "      <td>2020-02-23</td>\n",
       "      <td>23</td>\n",
       "      <td>70</td>\n",
       "      <td>male</td>\n",
       "      <td>Seoul</td>\n",
       "      <td>Yeongdeungpo-gu</td>\n",
       "      <td>26130</td>\n",
       "    </tr>\n",
       "    <tr>\n",
       "      <th>388798</th>\n",
       "      <td>2020-02-23</td>\n",
       "      <td>23</td>\n",
       "      <td>70</td>\n",
       "      <td>female</td>\n",
       "      <td>Seoul</td>\n",
       "      <td>Yongsan-gu</td>\n",
       "      <td>25000</td>\n",
       "    </tr>\n",
       "    <tr>\n",
       "      <th>388799</th>\n",
       "      <td>2020-02-23</td>\n",
       "      <td>23</td>\n",
       "      <td>70</td>\n",
       "      <td>male</td>\n",
       "      <td>Seoul</td>\n",
       "      <td>Yongsan-gu</td>\n",
       "      <td>17000</td>\n",
       "    </tr>\n",
       "  </tbody>\n",
       "</table>\n",
       "<p>7200 rows × 7 columns</p>\n",
       "</div>"
      ],
      "text/plain": [
       "              date  hour  birth_year     sex province             city  fp_num\n",
       "381600  2020-02-23     0          20  female    Seoul        Dobong-gu   38930\n",
       "381601  2020-02-23     0          20    male    Seoul        Dobong-gu   39140\n",
       "381602  2020-02-23     0          20  female    Seoul    Dongdaemun-gu   55030\n",
       "381603  2020-02-23     0          20    male    Seoul    Dongdaemun-gu   59200\n",
       "381604  2020-02-23     0          20  female    Seoul       Dongjag-gu   62770\n",
       "...            ...   ...         ...     ...      ...              ...     ...\n",
       "388795  2020-02-23    23          70    male    Seoul     Yangcheon-gu   23960\n",
       "388796  2020-02-23    23          70  female    Seoul  Yeongdeungpo-gu   35230\n",
       "388797  2020-02-23    23          70    male    Seoul  Yeongdeungpo-gu   26130\n",
       "388798  2020-02-23    23          70  female    Seoul       Yongsan-gu   25000\n",
       "388799  2020-02-23    23          70    male    Seoul       Yongsan-gu   17000\n",
       "\n",
       "[7200 rows x 7 columns]"
      ]
     },
     "execution_count": 28,
     "metadata": {},
     "output_type": "execute_result"
    }
   ],
   "source": [
    "floating2[floating2[\"date\"] =='2020-02-23'] "
   ]
  },
  {
   "cell_type": "code",
   "execution_count": 29,
   "id": "54094e0d",
   "metadata": {},
   "outputs": [
    {
     "data": {
      "text/plain": [
       "'2020-05-29'"
      ]
     },
     "execution_count": 29,
     "metadata": {},
     "output_type": "execute_result"
    }
   ],
   "source": [
    "fl[fl == fl.min()].index[0]"
   ]
  },
  {
   "cell_type": "code",
   "execution_count": 30,
   "id": "3c3988b7",
   "metadata": {},
   "outputs": [
    {
     "data": {
      "image/png": "[encoded data removed]",
      "text/plain": [
       "<Figure size 2880x1440 with 1 Axes>"
      ]
     },
     "metadata": {
      "needs_background": "light"
     },
     "output_type": "display_data"
    }
   ],
   "source": [
    "plt.figure(figsize=(40,20)) \n",
    "plt.plot(fl)\n",
    "plt.show()"
   ]
  },
  {
   "cell_type": "markdown",
   "id": "65ec68a3",
   "metadata": {},
   "source": [
    "# 연령대별 이동량 계산"
   ]
  },
  {
   "cell_type": "code",
   "execution_count": 31,
   "id": "52dc5b93",
   "metadata": {},
   "outputs": [
    {
     "name": "stdout",
     "output_type": "stream",
     "text": [
      "<class 'pandas.core.frame.DataFrame'>\n",
      "RangeIndex: 1084800 entries, 0 to 1084799\n",
      "Data columns (total 7 columns):\n",
      " #   Column      Non-Null Count    Dtype \n",
      "---  ------      --------------    ----- \n",
      " 0   date        1084800 non-null  object\n",
      " 1   hour        1084800 non-null  int64 \n",
      " 2   birth_year  1084800 non-null  int64 \n",
      " 3   sex         1084800 non-null  object\n",
      " 4   province    1084800 non-null  object\n",
      " 5   city        1084800 non-null  object\n",
      " 6   fp_num      1084800 non-null  int64 \n",
      "dtypes: int64(3), object(4)\n",
      "memory usage: 57.9+ MB\n"
     ]
    }
   ],
   "source": [
    "from datetime import datetime\n",
    "\n",
    "# floating2.date = pd.to_datetime(floating2[\"date\"])\n",
    "# floating2 = floating2.set_index('date')\n",
    "floating2.info()"
   ]
  },
  {
   "cell_type": "code",
   "execution_count": 35,
   "id": "a269d368",
   "metadata": {},
   "outputs": [
    {
     "data": {
      "text/plain": [
       "birth_year\n",
       "20    5441769700\n",
       "30    6069018790\n",
       "40    6054699830\n",
       "50    5675739830\n",
       "60    3706127050\n",
       "Name: fp_num, dtype: int64"
      ]
     },
     "execution_count": 35,
     "metadata": {},
     "output_type": "execute_result"
    }
   ],
   "source": [
    "birth = floating2.groupby(by = 'birth_year').fp_num.agg('sum')\n",
    "birth.head()"
   ]
  },
  {
   "cell_type": "code",
   "execution_count": 36,
   "id": "d8126a69",
   "metadata": {},
   "outputs": [
    {
     "data": {
      "image/png": "[encoded data removed]",
      "text/plain": [
       "<Figure size 2880x1440 with 1 Axes>"
      ]
     },
     "metadata": {
      "needs_background": "light"
     },
     "output_type": "display_data"
    }
   ],
   "source": [
    "plt.figure(figsize=(40,20)) \n",
    "plt.plot(birth)\n",
    "plt.show()"
   ]
  },
  {
   "cell_type": "markdown",
   "id": "57ad4ad4",
   "metadata": {},
   "source": [
    "경제활동이 활발한 30-40대의 이동량이 많은 것을 볼 수 있다."
   ]
  },
  {
   "cell_type": "code",
   "execution_count": 77,
   "id": "b44096e7",
   "metadata": {},
   "outputs": [
    {
     "name": "stdout",
     "output_type": "stream",
     "text": [
      "<class 'pandas.core.frame.DataFrame'>\n",
      "Int64Index: 180800 entries, 0 to 1084794\n",
      "Data columns (total 7 columns):\n",
      " #   Column      Non-Null Count   Dtype \n",
      "---  ------      --------------   ----- \n",
      " 0   date        180800 non-null  object\n",
      " 1   hour        180800 non-null  int64 \n",
      " 2   birth_year  180800 non-null  int64 \n",
      " 3   sex         180800 non-null  object\n",
      " 4   province    180800 non-null  object\n",
      " 5   city        180800 non-null  object\n",
      " 6   fp_num      180800 non-null  int64 \n",
      "dtypes: int64(3), object(4)\n",
      "memory usage: 11.0+ MB\n"
     ]
    }
   ],
   "source": [
    "twn = floating2[floating2[\"birth_year\"] == 20]\n",
    "twn.head()\n",
    "twn.info()"
   ]
  },
  {
   "cell_type": "code",
   "execution_count": 78,
   "id": "7fb85c27",
   "metadata": {},
   "outputs": [
    {
     "name": "stdout",
     "output_type": "stream",
     "text": [
      "<class 'pandas.core.frame.DataFrame'>\n",
      "Int64Index: 180800 entries, 0 to 1084794\n",
      "Data columns (total 7 columns):\n",
      " #   Column      Non-Null Count   Dtype         \n",
      "---  ------      --------------   -----         \n",
      " 0   date        180800 non-null  datetime64[ns]\n",
      " 1   hour        180800 non-null  int64         \n",
      " 2   birth_year  180800 non-null  int64         \n",
      " 3   sex         180800 non-null  object        \n",
      " 4   province    180800 non-null  object        \n",
      " 5   city        180800 non-null  object        \n",
      " 6   fp_num      180800 non-null  int64         \n",
      "dtypes: datetime64[ns](1), int64(3), object(3)\n",
      "memory usage: 11.0+ MB\n"
     ]
    }
   ],
   "source": [
    "twn[\"date\"] = pd.to_datetime(twn[\"date\"])\n",
    "twn = pd.DataFrame(twn)\n",
    "# twn = twn.groupby(by = 'date').agg((fp_num='sum'))\n",
    "type(twn)\n",
    "twn.info()"
   ]
  },
  {
   "cell_type": "markdown",
   "id": "01ab4332",
   "metadata": {},
   "source": [
    "### 각 연령대별 일자-시간별 이동량 합계"
   ]
  },
  {
   "cell_type": "code",
   "execution_count": 82,
   "id": "a8257544",
   "metadata": {},
   "outputs": [
    {
     "data": {
      "text/html": [
       "<div>\n",
       "<style scoped>\n",
       "    .dataframe tbody tr th:only-of-type {\n",
       "        vertical-align: middle;\n",
       "    }\n",
       "\n",
       "    .dataframe tbody tr th {\n",
       "        vertical-align: top;\n",
       "    }\n",
       "\n",
       "    .dataframe thead th {\n",
       "        text-align: right;\n",
       "    }\n",
       "</style>\n",
       "<table border=\"1\" class=\"dataframe\">\n",
       "  <thead>\n",
       "    <tr style=\"text-align: right;\">\n",
       "      <th></th>\n",
       "      <th></th>\n",
       "      <th>fp_num</th>\n",
       "    </tr>\n",
       "    <tr>\n",
       "      <th>date</th>\n",
       "      <th>hour</th>\n",
       "      <th></th>\n",
       "    </tr>\n",
       "  </thead>\n",
       "  <tbody>\n",
       "    <tr>\n",
       "      <th rowspan=\"5\" valign=\"top\">2020-01-01</th>\n",
       "      <th>0</th>\n",
       "      <td>1448180</td>\n",
       "    </tr>\n",
       "    <tr>\n",
       "      <th>1</th>\n",
       "      <td>1433590</td>\n",
       "    </tr>\n",
       "    <tr>\n",
       "      <th>2</th>\n",
       "      <td>1424810</td>\n",
       "    </tr>\n",
       "    <tr>\n",
       "      <th>3</th>\n",
       "      <td>1416150</td>\n",
       "    </tr>\n",
       "    <tr>\n",
       "      <th>4</th>\n",
       "      <td>1411090</td>\n",
       "    </tr>\n",
       "    <tr>\n",
       "      <th>...</th>\n",
       "      <th>...</th>\n",
       "      <td>...</td>\n",
       "    </tr>\n",
       "    <tr>\n",
       "      <th rowspan=\"5\" valign=\"top\">2020-05-31</th>\n",
       "      <th>19</th>\n",
       "      <td>1498700</td>\n",
       "    </tr>\n",
       "    <tr>\n",
       "      <th>20</th>\n",
       "      <td>1496200</td>\n",
       "    </tr>\n",
       "    <tr>\n",
       "      <th>21</th>\n",
       "      <td>1488870</td>\n",
       "    </tr>\n",
       "    <tr>\n",
       "      <th>22</th>\n",
       "      <td>1478950</td>\n",
       "    </tr>\n",
       "    <tr>\n",
       "      <th>23</th>\n",
       "      <td>1468280</td>\n",
       "    </tr>\n",
       "  </tbody>\n",
       "</table>\n",
       "<p>3616 rows × 1 columns</p>\n",
       "</div>"
      ],
      "text/plain": [
       "                  fp_num\n",
       "date       hour         \n",
       "2020-01-01 0     1448180\n",
       "           1     1433590\n",
       "           2     1424810\n",
       "           3     1416150\n",
       "           4     1411090\n",
       "...                  ...\n",
       "2020-05-31 19    1498700\n",
       "           20    1496200\n",
       "           21    1488870\n",
       "           22    1478950\n",
       "           23    1468280\n",
       "\n",
       "[3616 rows x 1 columns]"
      ]
     },
     "execution_count": 82,
     "metadata": {},
     "output_type": "execute_result"
    }
   ],
   "source": [
    "twn_sum = twn.groupby(['date','hour']).agg({\"fp_num\" : sum})\n",
    "twn_sum"
   ]
  },
  {
   "cell_type": "code",
   "execution_count": 86,
   "id": "3c09ff71",
   "metadata": {},
   "outputs": [
    {
     "data": {
      "text/html": [
       "<div>\n",
       "<style scoped>\n",
       "    .dataframe tbody tr th:only-of-type {\n",
       "        vertical-align: middle;\n",
       "    }\n",
       "\n",
       "    .dataframe tbody tr th {\n",
       "        vertical-align: top;\n",
       "    }\n",
       "\n",
       "    .dataframe thead th {\n",
       "        text-align: right;\n",
       "    }\n",
       "</style>\n",
       "<table border=\"1\" class=\"dataframe\">\n",
       "  <thead>\n",
       "    <tr style=\"text-align: right;\">\n",
       "      <th></th>\n",
       "      <th>date</th>\n",
       "      <th>hour</th>\n",
       "      <th>birth_year</th>\n",
       "      <th>sex</th>\n",
       "      <th>province</th>\n",
       "      <th>city</th>\n",
       "      <th>fp_num</th>\n",
       "    </tr>\n",
       "  </thead>\n",
       "  <tbody>\n",
       "    <tr>\n",
       "      <th>1200</th>\n",
       "      <td>2020-01-01</td>\n",
       "      <td>0</td>\n",
       "      <td>30</td>\n",
       "      <td>female</td>\n",
       "      <td>Seoul</td>\n",
       "      <td>Dobong-gu</td>\n",
       "      <td>21950</td>\n",
       "    </tr>\n",
       "    <tr>\n",
       "      <th>1201</th>\n",
       "      <td>2020-01-01</td>\n",
       "      <td>0</td>\n",
       "      <td>30</td>\n",
       "      <td>male</td>\n",
       "      <td>Seoul</td>\n",
       "      <td>Dobong-gu</td>\n",
       "      <td>22230</td>\n",
       "    </tr>\n",
       "    <tr>\n",
       "      <th>1202</th>\n",
       "      <td>2020-01-01</td>\n",
       "      <td>0</td>\n",
       "      <td>30</td>\n",
       "      <td>female</td>\n",
       "      <td>Seoul</td>\n",
       "      <td>Dongdaemun-gu</td>\n",
       "      <td>26060</td>\n",
       "    </tr>\n",
       "    <tr>\n",
       "      <th>1203</th>\n",
       "      <td>2020-01-01</td>\n",
       "      <td>0</td>\n",
       "      <td>30</td>\n",
       "      <td>male</td>\n",
       "      <td>Seoul</td>\n",
       "      <td>Dongdaemun-gu</td>\n",
       "      <td>28910</td>\n",
       "    </tr>\n",
       "    <tr>\n",
       "      <th>1204</th>\n",
       "      <td>2020-01-01</td>\n",
       "      <td>0</td>\n",
       "      <td>30</td>\n",
       "      <td>female</td>\n",
       "      <td>Seoul</td>\n",
       "      <td>Dongjag-gu</td>\n",
       "      <td>31610</td>\n",
       "    </tr>\n",
       "  </tbody>\n",
       "</table>\n",
       "</div>"
      ],
      "text/plain": [
       "            date  hour  birth_year     sex province           city  fp_num\n",
       "1200  2020-01-01     0          30  female    Seoul      Dobong-gu   21950\n",
       "1201  2020-01-01     0          30    male    Seoul      Dobong-gu   22230\n",
       "1202  2020-01-01     0          30  female    Seoul  Dongdaemun-gu   26060\n",
       "1203  2020-01-01     0          30    male    Seoul  Dongdaemun-gu   28910\n",
       "1204  2020-01-01     0          30  female    Seoul     Dongjag-gu   31610"
      ]
     },
     "execution_count": 86,
     "metadata": {},
     "output_type": "execute_result"
    }
   ],
   "source": [
    "thr = floating2[floating2[\"birth_year\"] == 30]\n",
    "thr.head()"
   ]
  },
  {
   "cell_type": "code",
   "execution_count": 87,
   "id": "86e5ac4f",
   "metadata": {},
   "outputs": [
    {
     "data": {
      "text/html": [
       "<div>\n",
       "<style scoped>\n",
       "    .dataframe tbody tr th:only-of-type {\n",
       "        vertical-align: middle;\n",
       "    }\n",
       "\n",
       "    .dataframe tbody tr th {\n",
       "        vertical-align: top;\n",
       "    }\n",
       "\n",
       "    .dataframe thead th {\n",
       "        text-align: right;\n",
       "    }\n",
       "</style>\n",
       "<table border=\"1\" class=\"dataframe\">\n",
       "  <thead>\n",
       "    <tr style=\"text-align: right;\">\n",
       "      <th></th>\n",
       "      <th></th>\n",
       "      <th>fp_num</th>\n",
       "    </tr>\n",
       "    <tr>\n",
       "      <th>date</th>\n",
       "      <th>hour</th>\n",
       "      <th></th>\n",
       "    </tr>\n",
       "  </thead>\n",
       "  <tbody>\n",
       "    <tr>\n",
       "      <th rowspan=\"5\" valign=\"top\">2020-01-01</th>\n",
       "      <th>0</th>\n",
       "      <td>1583570</td>\n",
       "    </tr>\n",
       "    <tr>\n",
       "      <th>1</th>\n",
       "      <td>1571090</td>\n",
       "    </tr>\n",
       "    <tr>\n",
       "      <th>2</th>\n",
       "      <td>1562770</td>\n",
       "    </tr>\n",
       "    <tr>\n",
       "      <th>3</th>\n",
       "      <td>1556670</td>\n",
       "    </tr>\n",
       "    <tr>\n",
       "      <th>4</th>\n",
       "      <td>1551960</td>\n",
       "    </tr>\n",
       "    <tr>\n",
       "      <th>...</th>\n",
       "      <th>...</th>\n",
       "      <td>...</td>\n",
       "    </tr>\n",
       "    <tr>\n",
       "      <th rowspan=\"5\" valign=\"top\">2020-05-31</th>\n",
       "      <th>19</th>\n",
       "      <td>1617240</td>\n",
       "    </tr>\n",
       "    <tr>\n",
       "      <th>20</th>\n",
       "      <td>1624790</td>\n",
       "    </tr>\n",
       "    <tr>\n",
       "      <th>21</th>\n",
       "      <td>1629130</td>\n",
       "    </tr>\n",
       "    <tr>\n",
       "      <th>22</th>\n",
       "      <td>1630060</td>\n",
       "    </tr>\n",
       "    <tr>\n",
       "      <th>23</th>\n",
       "      <td>1628230</td>\n",
       "    </tr>\n",
       "  </tbody>\n",
       "</table>\n",
       "<p>3616 rows × 1 columns</p>\n",
       "</div>"
      ],
      "text/plain": [
       "                  fp_num\n",
       "date       hour         \n",
       "2020-01-01 0     1583570\n",
       "           1     1571090\n",
       "           2     1562770\n",
       "           3     1556670\n",
       "           4     1551960\n",
       "...                  ...\n",
       "2020-05-31 19    1617240\n",
       "           20    1624790\n",
       "           21    1629130\n",
       "           22    1630060\n",
       "           23    1628230\n",
       "\n",
       "[3616 rows x 1 columns]"
      ]
     },
     "execution_count": 87,
     "metadata": {},
     "output_type": "execute_result"
    }
   ],
   "source": [
    "thr[\"date\"] = pd.to_datetime(thr[\"date\"])\n",
    "thr = pd.DataFrame(thr)\n",
    "thr_sum = thr.groupby(['date','hour']).agg({\"fp_num\" : sum})\n",
    "thr_sum"
   ]
  },
  {
   "cell_type": "code",
   "execution_count": 88,
   "id": "d3b9baf9",
   "metadata": {},
   "outputs": [
    {
     "data": {
      "text/html": [
       "<div>\n",
       "<style scoped>\n",
       "    .dataframe tbody tr th:only-of-type {\n",
       "        vertical-align: middle;\n",
       "    }\n",
       "\n",
       "    .dataframe tbody tr th {\n",
       "        vertical-align: top;\n",
       "    }\n",
       "\n",
       "    .dataframe thead th {\n",
       "        text-align: right;\n",
       "    }\n",
       "</style>\n",
       "<table border=\"1\" class=\"dataframe\">\n",
       "  <thead>\n",
       "    <tr style=\"text-align: right;\">\n",
       "      <th></th>\n",
       "      <th>date</th>\n",
       "      <th>hour</th>\n",
       "      <th>birth_year</th>\n",
       "      <th>sex</th>\n",
       "      <th>province</th>\n",
       "      <th>city</th>\n",
       "      <th>fp_num</th>\n",
       "    </tr>\n",
       "  </thead>\n",
       "  <tbody>\n",
       "    <tr>\n",
       "      <th>2400</th>\n",
       "      <td>2020-01-01</td>\n",
       "      <td>0</td>\n",
       "      <td>40</td>\n",
       "      <td>female</td>\n",
       "      <td>Seoul</td>\n",
       "      <td>Dobong-gu</td>\n",
       "      <td>26730</td>\n",
       "    </tr>\n",
       "    <tr>\n",
       "      <th>2401</th>\n",
       "      <td>2020-01-01</td>\n",
       "      <td>0</td>\n",
       "      <td>40</td>\n",
       "      <td>male</td>\n",
       "      <td>Seoul</td>\n",
       "      <td>Dobong-gu</td>\n",
       "      <td>25740</td>\n",
       "    </tr>\n",
       "    <tr>\n",
       "      <th>2402</th>\n",
       "      <td>2020-01-01</td>\n",
       "      <td>0</td>\n",
       "      <td>40</td>\n",
       "      <td>female</td>\n",
       "      <td>Seoul</td>\n",
       "      <td>Dongdaemun-gu</td>\n",
       "      <td>26950</td>\n",
       "    </tr>\n",
       "    <tr>\n",
       "      <th>2403</th>\n",
       "      <td>2020-01-01</td>\n",
       "      <td>0</td>\n",
       "      <td>40</td>\n",
       "      <td>male</td>\n",
       "      <td>Seoul</td>\n",
       "      <td>Dongdaemun-gu</td>\n",
       "      <td>28520</td>\n",
       "    </tr>\n",
       "    <tr>\n",
       "      <th>2404</th>\n",
       "      <td>2020-01-01</td>\n",
       "      <td>0</td>\n",
       "      <td>40</td>\n",
       "      <td>female</td>\n",
       "      <td>Seoul</td>\n",
       "      <td>Dongjag-gu</td>\n",
       "      <td>29740</td>\n",
       "    </tr>\n",
       "  </tbody>\n",
       "</table>\n",
       "</div>"
      ],
      "text/plain": [
       "            date  hour  birth_year     sex province           city  fp_num\n",
       "2400  2020-01-01     0          40  female    Seoul      Dobong-gu   26730\n",
       "2401  2020-01-01     0          40    male    Seoul      Dobong-gu   25740\n",
       "2402  2020-01-01     0          40  female    Seoul  Dongdaemun-gu   26950\n",
       "2403  2020-01-01     0          40    male    Seoul  Dongdaemun-gu   28520\n",
       "2404  2020-01-01     0          40  female    Seoul     Dongjag-gu   29740"
      ]
     },
     "execution_count": 88,
     "metadata": {},
     "output_type": "execute_result"
    }
   ],
   "source": [
    "four = floating2[floating2[\"birth_year\"] == 40]\n",
    "four.head()"
   ]
  },
  {
   "cell_type": "code",
   "execution_count": 89,
   "id": "9ef73818",
   "metadata": {},
   "outputs": [
    {
     "data": {
      "text/html": [
       "<div>\n",
       "<style scoped>\n",
       "    .dataframe tbody tr th:only-of-type {\n",
       "        vertical-align: middle;\n",
       "    }\n",
       "\n",
       "    .dataframe tbody tr th {\n",
       "        vertical-align: top;\n",
       "    }\n",
       "\n",
       "    .dataframe thead th {\n",
       "        text-align: right;\n",
       "    }\n",
       "</style>\n",
       "<table border=\"1\" class=\"dataframe\">\n",
       "  <thead>\n",
       "    <tr style=\"text-align: right;\">\n",
       "      <th></th>\n",
       "      <th></th>\n",
       "      <th>fp_num</th>\n",
       "    </tr>\n",
       "    <tr>\n",
       "      <th>date</th>\n",
       "      <th>hour</th>\n",
       "      <th></th>\n",
       "    </tr>\n",
       "  </thead>\n",
       "  <tbody>\n",
       "    <tr>\n",
       "      <th rowspan=\"5\" valign=\"top\">2020-01-01</th>\n",
       "      <th>0</th>\n",
       "      <td>1613790</td>\n",
       "    </tr>\n",
       "    <tr>\n",
       "      <th>1</th>\n",
       "      <td>1601360</td>\n",
       "    </tr>\n",
       "    <tr>\n",
       "      <th>2</th>\n",
       "      <td>1594570</td>\n",
       "    </tr>\n",
       "    <tr>\n",
       "      <th>3</th>\n",
       "      <td>1589580</td>\n",
       "    </tr>\n",
       "    <tr>\n",
       "      <th>4</th>\n",
       "      <td>1584650</td>\n",
       "    </tr>\n",
       "    <tr>\n",
       "      <th>...</th>\n",
       "      <th>...</th>\n",
       "      <td>...</td>\n",
       "    </tr>\n",
       "    <tr>\n",
       "      <th rowspan=\"5\" valign=\"top\">2020-05-31</th>\n",
       "      <th>19</th>\n",
       "      <td>1609070</td>\n",
       "    </tr>\n",
       "    <tr>\n",
       "      <th>20</th>\n",
       "      <td>1618750</td>\n",
       "    </tr>\n",
       "    <tr>\n",
       "      <th>21</th>\n",
       "      <td>1627340</td>\n",
       "    </tr>\n",
       "    <tr>\n",
       "      <th>22</th>\n",
       "      <td>1632320</td>\n",
       "    </tr>\n",
       "    <tr>\n",
       "      <th>23</th>\n",
       "      <td>1633650</td>\n",
       "    </tr>\n",
       "  </tbody>\n",
       "</table>\n",
       "<p>3616 rows × 1 columns</p>\n",
       "</div>"
      ],
      "text/plain": [
       "                  fp_num\n",
       "date       hour         \n",
       "2020-01-01 0     1613790\n",
       "           1     1601360\n",
       "           2     1594570\n",
       "           3     1589580\n",
       "           4     1584650\n",
       "...                  ...\n",
       "2020-05-31 19    1609070\n",
       "           20    1618750\n",
       "           21    1627340\n",
       "           22    1632320\n",
       "           23    1633650\n",
       "\n",
       "[3616 rows x 1 columns]"
      ]
     },
     "execution_count": 89,
     "metadata": {},
     "output_type": "execute_result"
    }
   ],
   "source": [
    "four[\"date\"] = pd.to_datetime(four[\"date\"])\n",
    "four = pd.DataFrame(four)\n",
    "four_sum = four.groupby(['date','hour']).agg({\"fp_num\" : sum})\n",
    "four_sum"
   ]
  },
  {
   "cell_type": "code",
   "execution_count": 90,
   "id": "717244d1",
   "metadata": {},
   "outputs": [
    {
     "data": {
      "text/html": [
       "<div>\n",
       "<style scoped>\n",
       "    .dataframe tbody tr th:only-of-type {\n",
       "        vertical-align: middle;\n",
       "    }\n",
       "\n",
       "    .dataframe tbody tr th {\n",
       "        vertical-align: top;\n",
       "    }\n",
       "\n",
       "    .dataframe thead th {\n",
       "        text-align: right;\n",
       "    }\n",
       "</style>\n",
       "<table border=\"1\" class=\"dataframe\">\n",
       "  <thead>\n",
       "    <tr style=\"text-align: right;\">\n",
       "      <th></th>\n",
       "      <th>date</th>\n",
       "      <th>hour</th>\n",
       "      <th>birth_year</th>\n",
       "      <th>sex</th>\n",
       "      <th>province</th>\n",
       "      <th>city</th>\n",
       "      <th>fp_num</th>\n",
       "    </tr>\n",
       "  </thead>\n",
       "  <tbody>\n",
       "    <tr>\n",
       "      <th>3600</th>\n",
       "      <td>2020-01-01</td>\n",
       "      <td>0</td>\n",
       "      <td>50</td>\n",
       "      <td>female</td>\n",
       "      <td>Seoul</td>\n",
       "      <td>Dobong-gu</td>\n",
       "      <td>29070</td>\n",
       "    </tr>\n",
       "    <tr>\n",
       "      <th>3601</th>\n",
       "      <td>2020-01-01</td>\n",
       "      <td>0</td>\n",
       "      <td>50</td>\n",
       "      <td>male</td>\n",
       "      <td>Seoul</td>\n",
       "      <td>Dobong-gu</td>\n",
       "      <td>26340</td>\n",
       "    </tr>\n",
       "    <tr>\n",
       "      <th>3602</th>\n",
       "      <td>2020-01-01</td>\n",
       "      <td>0</td>\n",
       "      <td>50</td>\n",
       "      <td>female</td>\n",
       "      <td>Seoul</td>\n",
       "      <td>Dongdaemun-gu</td>\n",
       "      <td>27960</td>\n",
       "    </tr>\n",
       "    <tr>\n",
       "      <th>3603</th>\n",
       "      <td>2020-01-01</td>\n",
       "      <td>0</td>\n",
       "      <td>50</td>\n",
       "      <td>male</td>\n",
       "      <td>Seoul</td>\n",
       "      <td>Dongdaemun-gu</td>\n",
       "      <td>27060</td>\n",
       "    </tr>\n",
       "    <tr>\n",
       "      <th>3604</th>\n",
       "      <td>2020-01-01</td>\n",
       "      <td>0</td>\n",
       "      <td>50</td>\n",
       "      <td>female</td>\n",
       "      <td>Seoul</td>\n",
       "      <td>Dongjag-gu</td>\n",
       "      <td>30860</td>\n",
       "    </tr>\n",
       "  </tbody>\n",
       "</table>\n",
       "</div>"
      ],
      "text/plain": [
       "            date  hour  birth_year     sex province           city  fp_num\n",
       "3600  2020-01-01     0          50  female    Seoul      Dobong-gu   29070\n",
       "3601  2020-01-01     0          50    male    Seoul      Dobong-gu   26340\n",
       "3602  2020-01-01     0          50  female    Seoul  Dongdaemun-gu   27960\n",
       "3603  2020-01-01     0          50    male    Seoul  Dongdaemun-gu   27060\n",
       "3604  2020-01-01     0          50  female    Seoul     Dongjag-gu   30860"
      ]
     },
     "execution_count": 90,
     "metadata": {},
     "output_type": "execute_result"
    }
   ],
   "source": [
    "fth = floating2[floating2[\"birth_year\"] == 50]\n",
    "fth.head()"
   ]
  },
  {
   "cell_type": "code",
   "execution_count": 91,
   "id": "7cfd712c",
   "metadata": {},
   "outputs": [
    {
     "data": {
      "text/html": [
       "<div>\n",
       "<style scoped>\n",
       "    .dataframe tbody tr th:only-of-type {\n",
       "        vertical-align: middle;\n",
       "    }\n",
       "\n",
       "    .dataframe tbody tr th {\n",
       "        vertical-align: top;\n",
       "    }\n",
       "\n",
       "    .dataframe thead th {\n",
       "        text-align: right;\n",
       "    }\n",
       "</style>\n",
       "<table border=\"1\" class=\"dataframe\">\n",
       "  <thead>\n",
       "    <tr style=\"text-align: right;\">\n",
       "      <th></th>\n",
       "      <th></th>\n",
       "      <th>fp_num</th>\n",
       "    </tr>\n",
       "    <tr>\n",
       "      <th>date</th>\n",
       "      <th>hour</th>\n",
       "      <th></th>\n",
       "    </tr>\n",
       "  </thead>\n",
       "  <tbody>\n",
       "    <tr>\n",
       "      <th rowspan=\"5\" valign=\"top\">2020-01-01</th>\n",
       "      <th>0</th>\n",
       "      <td>1549250</td>\n",
       "    </tr>\n",
       "    <tr>\n",
       "      <th>1</th>\n",
       "      <td>1539210</td>\n",
       "    </tr>\n",
       "    <tr>\n",
       "      <th>2</th>\n",
       "      <td>1532890</td>\n",
       "    </tr>\n",
       "    <tr>\n",
       "      <th>3</th>\n",
       "      <td>1527880</td>\n",
       "    </tr>\n",
       "    <tr>\n",
       "      <th>4</th>\n",
       "      <td>1522580</td>\n",
       "    </tr>\n",
       "    <tr>\n",
       "      <th>...</th>\n",
       "      <th>...</th>\n",
       "      <td>...</td>\n",
       "    </tr>\n",
       "    <tr>\n",
       "      <th rowspan=\"5\" valign=\"top\">2020-05-31</th>\n",
       "      <th>19</th>\n",
       "      <td>1531480</td>\n",
       "    </tr>\n",
       "    <tr>\n",
       "      <th>20</th>\n",
       "      <td>1545400</td>\n",
       "    </tr>\n",
       "    <tr>\n",
       "      <th>21</th>\n",
       "      <td>1556600</td>\n",
       "    </tr>\n",
       "    <tr>\n",
       "      <th>22</th>\n",
       "      <td>1561780</td>\n",
       "    </tr>\n",
       "    <tr>\n",
       "      <th>23</th>\n",
       "      <td>1562500</td>\n",
       "    </tr>\n",
       "  </tbody>\n",
       "</table>\n",
       "<p>3616 rows × 1 columns</p>\n",
       "</div>"
      ],
      "text/plain": [
       "                  fp_num\n",
       "date       hour         \n",
       "2020-01-01 0     1549250\n",
       "           1     1539210\n",
       "           2     1532890\n",
       "           3     1527880\n",
       "           4     1522580\n",
       "...                  ...\n",
       "2020-05-31 19    1531480\n",
       "           20    1545400\n",
       "           21    1556600\n",
       "           22    1561780\n",
       "           23    1562500\n",
       "\n",
       "[3616 rows x 1 columns]"
      ]
     },
     "execution_count": 91,
     "metadata": {},
     "output_type": "execute_result"
    }
   ],
   "source": [
    "fth[\"date\"] = pd.to_datetime(fth[\"date\"])\n",
    "fth = pd.DataFrame(fth)\n",
    "fth_sum = fth.groupby(['date','hour']).agg({\"fp_num\" : sum})\n",
    "fth_sum"
   ]
  },
  {
   "cell_type": "code",
   "execution_count": 93,
   "id": "1e8be20d",
   "metadata": {},
   "outputs": [
    {
     "data": {
      "text/html": [
       "<div>\n",
       "<style scoped>\n",
       "    .dataframe tbody tr th:only-of-type {\n",
       "        vertical-align: middle;\n",
       "    }\n",
       "\n",
       "    .dataframe tbody tr th {\n",
       "        vertical-align: top;\n",
       "    }\n",
       "\n",
       "    .dataframe thead th {\n",
       "        text-align: right;\n",
       "    }\n",
       "</style>\n",
       "<table border=\"1\" class=\"dataframe\">\n",
       "  <thead>\n",
       "    <tr style=\"text-align: right;\">\n",
       "      <th></th>\n",
       "      <th>date</th>\n",
       "      <th>hour</th>\n",
       "      <th>birth_year</th>\n",
       "      <th>sex</th>\n",
       "      <th>province</th>\n",
       "      <th>city</th>\n",
       "      <th>fp_num</th>\n",
       "    </tr>\n",
       "  </thead>\n",
       "  <tbody>\n",
       "    <tr>\n",
       "      <th>4800</th>\n",
       "      <td>2020-01-01</td>\n",
       "      <td>0</td>\n",
       "      <td>60</td>\n",
       "      <td>female</td>\n",
       "      <td>Seoul</td>\n",
       "      <td>Dobong-gu</td>\n",
       "      <td>20550</td>\n",
       "    </tr>\n",
       "    <tr>\n",
       "      <th>4801</th>\n",
       "      <td>2020-01-01</td>\n",
       "      <td>0</td>\n",
       "      <td>60</td>\n",
       "      <td>male</td>\n",
       "      <td>Seoul</td>\n",
       "      <td>Dobong-gu</td>\n",
       "      <td>19080</td>\n",
       "    </tr>\n",
       "    <tr>\n",
       "      <th>4802</th>\n",
       "      <td>2020-01-01</td>\n",
       "      <td>0</td>\n",
       "      <td>60</td>\n",
       "      <td>female</td>\n",
       "      <td>Seoul</td>\n",
       "      <td>Dongdaemun-gu</td>\n",
       "      <td>21880</td>\n",
       "    </tr>\n",
       "    <tr>\n",
       "      <th>4803</th>\n",
       "      <td>2020-01-01</td>\n",
       "      <td>0</td>\n",
       "      <td>60</td>\n",
       "      <td>male</td>\n",
       "      <td>Seoul</td>\n",
       "      <td>Dongdaemun-gu</td>\n",
       "      <td>19820</td>\n",
       "    </tr>\n",
       "    <tr>\n",
       "      <th>4804</th>\n",
       "      <td>2020-01-01</td>\n",
       "      <td>0</td>\n",
       "      <td>60</td>\n",
       "      <td>female</td>\n",
       "      <td>Seoul</td>\n",
       "      <td>Dongjag-gu</td>\n",
       "      <td>23650</td>\n",
       "    </tr>\n",
       "  </tbody>\n",
       "</table>\n",
       "</div>"
      ],
      "text/plain": [
       "            date  hour  birth_year     sex province           city  fp_num\n",
       "4800  2020-01-01     0          60  female    Seoul      Dobong-gu   20550\n",
       "4801  2020-01-01     0          60    male    Seoul      Dobong-gu   19080\n",
       "4802  2020-01-01     0          60  female    Seoul  Dongdaemun-gu   21880\n",
       "4803  2020-01-01     0          60    male    Seoul  Dongdaemun-gu   19820\n",
       "4804  2020-01-01     0          60  female    Seoul     Dongjag-gu   23650"
      ]
     },
     "execution_count": 93,
     "metadata": {},
     "output_type": "execute_result"
    }
   ],
   "source": [
    "sth = floating2[floating2[\"birth_year\"] == 60]\n",
    "sth.head()"
   ]
  },
  {
   "cell_type": "code",
   "execution_count": 94,
   "id": "dc19316f",
   "metadata": {},
   "outputs": [
    {
     "data": {
      "text/html": [
       "<div>\n",
       "<style scoped>\n",
       "    .dataframe tbody tr th:only-of-type {\n",
       "        vertical-align: middle;\n",
       "    }\n",
       "\n",
       "    .dataframe tbody tr th {\n",
       "        vertical-align: top;\n",
       "    }\n",
       "\n",
       "    .dataframe thead th {\n",
       "        text-align: right;\n",
       "    }\n",
       "</style>\n",
       "<table border=\"1\" class=\"dataframe\">\n",
       "  <thead>\n",
       "    <tr style=\"text-align: right;\">\n",
       "      <th></th>\n",
       "      <th></th>\n",
       "      <th>fp_num</th>\n",
       "    </tr>\n",
       "    <tr>\n",
       "      <th>date</th>\n",
       "      <th>hour</th>\n",
       "      <th></th>\n",
       "    </tr>\n",
       "  </thead>\n",
       "  <tbody>\n",
       "    <tr>\n",
       "      <th rowspan=\"5\" valign=\"top\">2020-01-01</th>\n",
       "      <th>0</th>\n",
       "      <td>1095570</td>\n",
       "    </tr>\n",
       "    <tr>\n",
       "      <th>1</th>\n",
       "      <td>1087780</td>\n",
       "    </tr>\n",
       "    <tr>\n",
       "      <th>2</th>\n",
       "      <td>1083490</td>\n",
       "    </tr>\n",
       "    <tr>\n",
       "      <th>3</th>\n",
       "      <td>1079270</td>\n",
       "    </tr>\n",
       "    <tr>\n",
       "      <th>4</th>\n",
       "      <td>1075200</td>\n",
       "    </tr>\n",
       "    <tr>\n",
       "      <th>...</th>\n",
       "      <th>...</th>\n",
       "      <td>...</td>\n",
       "    </tr>\n",
       "    <tr>\n",
       "      <th rowspan=\"5\" valign=\"top\">2020-05-31</th>\n",
       "      <th>19</th>\n",
       "      <td>990880</td>\n",
       "    </tr>\n",
       "    <tr>\n",
       "      <th>20</th>\n",
       "      <td>999050</td>\n",
       "    </tr>\n",
       "    <tr>\n",
       "      <th>21</th>\n",
       "      <td>1004880</td>\n",
       "    </tr>\n",
       "    <tr>\n",
       "      <th>22</th>\n",
       "      <td>1007730</td>\n",
       "    </tr>\n",
       "    <tr>\n",
       "      <th>23</th>\n",
       "      <td>1007930</td>\n",
       "    </tr>\n",
       "  </tbody>\n",
       "</table>\n",
       "<p>3616 rows × 1 columns</p>\n",
       "</div>"
      ],
      "text/plain": [
       "                  fp_num\n",
       "date       hour         \n",
       "2020-01-01 0     1095570\n",
       "           1     1087780\n",
       "           2     1083490\n",
       "           3     1079270\n",
       "           4     1075200\n",
       "...                  ...\n",
       "2020-05-31 19     990880\n",
       "           20     999050\n",
       "           21    1004880\n",
       "           22    1007730\n",
       "           23    1007930\n",
       "\n",
       "[3616 rows x 1 columns]"
      ]
     },
     "execution_count": 94,
     "metadata": {},
     "output_type": "execute_result"
    }
   ],
   "source": [
    "sth[\"date\"] = pd.to_datetime(sth[\"date\"])\n",
    "sth = pd.DataFrame(sth)\n",
    "sth_sum = sth.groupby(['date','hour']).agg({\"fp_num\" : sum})\n",
    "sth_sum"
   ]
  },
  {
   "cell_type": "code",
   "execution_count": 92,
   "id": "9452d54d",
   "metadata": {},
   "outputs": [
    {
     "data": {
      "text/html": [
       "<div>\n",
       "<style scoped>\n",
       "    .dataframe tbody tr th:only-of-type {\n",
       "        vertical-align: middle;\n",
       "    }\n",
       "\n",
       "    .dataframe tbody tr th {\n",
       "        vertical-align: top;\n",
       "    }\n",
       "\n",
       "    .dataframe thead th {\n",
       "        text-align: right;\n",
       "    }\n",
       "</style>\n",
       "<table border=\"1\" class=\"dataframe\">\n",
       "  <thead>\n",
       "    <tr style=\"text-align: right;\">\n",
       "      <th></th>\n",
       "      <th>date</th>\n",
       "      <th>hour</th>\n",
       "      <th>birth_year</th>\n",
       "      <th>sex</th>\n",
       "      <th>province</th>\n",
       "      <th>city</th>\n",
       "      <th>fp_num</th>\n",
       "    </tr>\n",
       "  </thead>\n",
       "  <tbody>\n",
       "    <tr>\n",
       "      <th>6000</th>\n",
       "      <td>2020-01-01</td>\n",
       "      <td>0</td>\n",
       "      <td>70</td>\n",
       "      <td>female</td>\n",
       "      <td>Seoul</td>\n",
       "      <td>Dobong-gu</td>\n",
       "      <td>18690</td>\n",
       "    </tr>\n",
       "    <tr>\n",
       "      <th>6001</th>\n",
       "      <td>2020-01-01</td>\n",
       "      <td>0</td>\n",
       "      <td>70</td>\n",
       "      <td>male</td>\n",
       "      <td>Seoul</td>\n",
       "      <td>Dobong-gu</td>\n",
       "      <td>13860</td>\n",
       "    </tr>\n",
       "    <tr>\n",
       "      <th>6002</th>\n",
       "      <td>2020-01-01</td>\n",
       "      <td>0</td>\n",
       "      <td>70</td>\n",
       "      <td>female</td>\n",
       "      <td>Seoul</td>\n",
       "      <td>Dongdaemun-gu</td>\n",
       "      <td>20180</td>\n",
       "    </tr>\n",
       "    <tr>\n",
       "      <th>6003</th>\n",
       "      <td>2020-01-01</td>\n",
       "      <td>0</td>\n",
       "      <td>70</td>\n",
       "      <td>male</td>\n",
       "      <td>Seoul</td>\n",
       "      <td>Dongdaemun-gu</td>\n",
       "      <td>15020</td>\n",
       "    </tr>\n",
       "    <tr>\n",
       "      <th>6004</th>\n",
       "      <td>2020-01-01</td>\n",
       "      <td>0</td>\n",
       "      <td>70</td>\n",
       "      <td>female</td>\n",
       "      <td>Seoul</td>\n",
       "      <td>Dongjag-gu</td>\n",
       "      <td>20290</td>\n",
       "    </tr>\n",
       "  </tbody>\n",
       "</table>\n",
       "</div>"
      ],
      "text/plain": [
       "            date  hour  birth_year     sex province           city  fp_num\n",
       "6000  2020-01-01     0          70  female    Seoul      Dobong-gu   18690\n",
       "6001  2020-01-01     0          70    male    Seoul      Dobong-gu   13860\n",
       "6002  2020-01-01     0          70  female    Seoul  Dongdaemun-gu   20180\n",
       "6003  2020-01-01     0          70    male    Seoul  Dongdaemun-gu   15020\n",
       "6004  2020-01-01     0          70  female    Seoul     Dongjag-gu   20290"
      ]
     },
     "execution_count": 92,
     "metadata": {},
     "output_type": "execute_result"
    }
   ],
   "source": [
    "svt = floating2[floating2[\"birth_year\"] == 70]\n",
    "svt.head()"
   ]
  },
  {
   "cell_type": "code",
   "execution_count": 95,
   "id": "65610d8a",
   "metadata": {},
   "outputs": [
    {
     "data": {
      "text/html": [
       "<div>\n",
       "<style scoped>\n",
       "    .dataframe tbody tr th:only-of-type {\n",
       "        vertical-align: middle;\n",
       "    }\n",
       "\n",
       "    .dataframe tbody tr th {\n",
       "        vertical-align: top;\n",
       "    }\n",
       "\n",
       "    .dataframe thead th {\n",
       "        text-align: right;\n",
       "    }\n",
       "</style>\n",
       "<table border=\"1\" class=\"dataframe\">\n",
       "  <thead>\n",
       "    <tr style=\"text-align: right;\">\n",
       "      <th></th>\n",
       "      <th></th>\n",
       "      <th>fp_num</th>\n",
       "    </tr>\n",
       "    <tr>\n",
       "      <th>date</th>\n",
       "      <th>hour</th>\n",
       "      <th></th>\n",
       "    </tr>\n",
       "  </thead>\n",
       "  <tbody>\n",
       "    <tr>\n",
       "      <th rowspan=\"5\" valign=\"top\">2020-01-01</th>\n",
       "      <th>0</th>\n",
       "      <td>841100</td>\n",
       "    </tr>\n",
       "    <tr>\n",
       "      <th>1</th>\n",
       "      <td>834980</td>\n",
       "    </tr>\n",
       "    <tr>\n",
       "      <th>2</th>\n",
       "      <td>831620</td>\n",
       "    </tr>\n",
       "    <tr>\n",
       "      <th>3</th>\n",
       "      <td>827660</td>\n",
       "    </tr>\n",
       "    <tr>\n",
       "      <th>4</th>\n",
       "      <td>824320</td>\n",
       "    </tr>\n",
       "    <tr>\n",
       "      <th>...</th>\n",
       "      <th>...</th>\n",
       "      <td>...</td>\n",
       "    </tr>\n",
       "    <tr>\n",
       "      <th rowspan=\"5\" valign=\"top\">2020-05-31</th>\n",
       "      <th>19</th>\n",
       "      <td>748830</td>\n",
       "    </tr>\n",
       "    <tr>\n",
       "      <th>20</th>\n",
       "      <td>750760</td>\n",
       "    </tr>\n",
       "    <tr>\n",
       "      <th>21</th>\n",
       "      <td>751840</td>\n",
       "    </tr>\n",
       "    <tr>\n",
       "      <th>22</th>\n",
       "      <td>752350</td>\n",
       "    </tr>\n",
       "    <tr>\n",
       "      <th>23</th>\n",
       "      <td>752140</td>\n",
       "    </tr>\n",
       "  </tbody>\n",
       "</table>\n",
       "<p>3616 rows × 1 columns</p>\n",
       "</div>"
      ],
      "text/plain": [
       "                 fp_num\n",
       "date       hour        \n",
       "2020-01-01 0     841100\n",
       "           1     834980\n",
       "           2     831620\n",
       "           3     827660\n",
       "           4     824320\n",
       "...                 ...\n",
       "2020-05-31 19    748830\n",
       "           20    750760\n",
       "           21    751840\n",
       "           22    752350\n",
       "           23    752140\n",
       "\n",
       "[3616 rows x 1 columns]"
      ]
     },
     "execution_count": 95,
     "metadata": {},
     "output_type": "execute_result"
    }
   ],
   "source": [
    "svt[\"date\"] = pd.to_datetime(svt[\"date\"])\n",
    "svt = pd.DataFrame(svt)\n",
    "svt_sum = svt.groupby(['date','hour']).agg({\"fp_num\" : sum})\n",
    "svt_sum"
   ]
  }
 ],
 "metadata": {
  "kernelspec": {
   "display_name": "Python 3 (ipykernel)",
   "language": "python",
   "name": "python3"
  },
  "language_info": {
   "codemirror_mode": {
    "name": "ipython",
    "version": 3
   },
   "file_extension": ".py",
   "mimetype": "text/x-python",
   "name": "python",
   "nbconvert_exporter": "python",
   "pygments_lexer": "ipython3",
   "version": "3.9.7"
  }
 },
 "nbformat": 4,
 "nbformat_minor": 5
}
