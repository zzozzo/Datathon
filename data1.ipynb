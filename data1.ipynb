{
 "cells": [
  {
   "cell_type": "code",
   "execution_count": 1,
   "id": "0f2dcb21",
   "metadata": {},
   "outputs": [],
   "source": [
    "import matplotlib.pyplot as plt\n",
    "\n",
    "import warnings\n",
    "warnings.filterwarnings(\"ignore\")\n",
    "\n",
    "import os\n",
    "from os.path import join\n",
    "\n",
    "import pandas as pd\n",
    "import numpy as np\n",
    "\n",
    "import seaborn as sns"
   ]
  },
  {
   "cell_type": "code",
   "execution_count": 2,
   "id": "dd938cde",
   "metadata": {},
   "outputs": [],
   "source": [
    "data_dir = os.getenv('HOME')+'/aiffel/datathon/data'\n",
    "\n",
    "floating_data_path = join(data_dir, 'SeoulFloating.csv')\n",
    "\n",
    "floating = pd.read_csv(floating_data_path)"
   ]
  },
  {
   "cell_type": "code",
   "execution_count": 3,
   "id": "c5addc7d",
   "metadata": {},
   "outputs": [
    {
     "name": "stdout",
     "output_type": "stream",
     "text": [
      "floating data dim : (1084800, 7)\n"
     ]
    }
   ],
   "source": [
    "print('floating data dim : {}'.format(floating.shape))"
   ]
  },
  {
   "cell_type": "code",
   "execution_count": 4,
   "id": "951c4a77",
   "metadata": {},
   "outputs": [
    {
     "name": "stdout",
     "output_type": "stream",
     "text": [
      "Index(['date', 'hour', 'birth_year', 'sex', 'province', 'city', 'fp_num'], dtype='object')\n"
     ]
    }
   ],
   "source": [
    "print(floating.columns)"
   ]
  },
  {
   "cell_type": "code",
   "execution_count": 33,
   "id": "8fb46a8a",
   "metadata": {},
   "outputs": [
    {
     "name": "stdout",
     "output_type": "stream",
     "text": [
      "<class 'pandas.core.frame.DataFrame'>\n",
      "RangeIndex: 1084800 entries, 0 to 1084799\n",
      "Data columns (total 7 columns):\n",
      " #   Column      Non-Null Count    Dtype \n",
      "---  ------      --------------    ----- \n",
      " 0   date        1084800 non-null  object\n",
      " 1   hour        1084800 non-null  int64 \n",
      " 2   birth_year  1084800 non-null  int64 \n",
      " 3   sex         1084800 non-null  object\n",
      " 4   province    1084800 non-null  object\n",
      " 5   city        1084800 non-null  object\n",
      " 6   fp_num      1084800 non-null  int64 \n",
      "dtypes: int64(3), object(4)\n",
      "memory usage: 57.9+ MB\n"
     ]
    }
   ],
   "source": [
    "floating.info()"
   ]
  },
  {
   "cell_type": "code",
   "execution_count": 56,
   "id": "1e1f9e02",
   "metadata": {},
   "outputs": [
    {
     "data": {
      "text/html": [
       "<div>\n",
       "<style scoped>\n",
       "    .dataframe tbody tr th:only-of-type {\n",
       "        vertical-align: middle;\n",
       "    }\n",
       "\n",
       "    .dataframe tbody tr th {\n",
       "        vertical-align: top;\n",
       "    }\n",
       "\n",
       "    .dataframe thead th {\n",
       "        text-align: right;\n",
       "    }\n",
       "</style>\n",
       "<table border=\"1\" class=\"dataframe\">\n",
       "  <thead>\n",
       "    <tr style=\"text-align: right;\">\n",
       "      <th></th>\n",
       "      <th>date</th>\n",
       "      <th>hour</th>\n",
       "      <th>birth_year</th>\n",
       "      <th>sex</th>\n",
       "      <th>province</th>\n",
       "      <th>city</th>\n",
       "      <th>fp_num</th>\n",
       "    </tr>\n",
       "  </thead>\n",
       "  <tbody>\n",
       "    <tr>\n",
       "      <th>0</th>\n",
       "      <td>1970-01-01 00:00:00.000000001</td>\n",
       "      <td>0</td>\n",
       "      <td>20</td>\n",
       "      <td>female</td>\n",
       "      <td>Seoul</td>\n",
       "      <td>Dobong-gu</td>\n",
       "      <td>19140</td>\n",
       "    </tr>\n",
       "    <tr>\n",
       "      <th>1</th>\n",
       "      <td>1970-01-01 00:00:00.000000001</td>\n",
       "      <td>0</td>\n",
       "      <td>20</td>\n",
       "      <td>male</td>\n",
       "      <td>Seoul</td>\n",
       "      <td>Dobong-gu</td>\n",
       "      <td>19950</td>\n",
       "    </tr>\n",
       "    <tr>\n",
       "      <th>2</th>\n",
       "      <td>1970-01-01 00:00:00.000000001</td>\n",
       "      <td>0</td>\n",
       "      <td>20</td>\n",
       "      <td>female</td>\n",
       "      <td>Seoul</td>\n",
       "      <td>Dongdaemun-gu</td>\n",
       "      <td>25450</td>\n",
       "    </tr>\n",
       "    <tr>\n",
       "      <th>3</th>\n",
       "      <td>1970-01-01 00:00:00.000000001</td>\n",
       "      <td>0</td>\n",
       "      <td>20</td>\n",
       "      <td>male</td>\n",
       "      <td>Seoul</td>\n",
       "      <td>Dongdaemun-gu</td>\n",
       "      <td>27050</td>\n",
       "    </tr>\n",
       "    <tr>\n",
       "      <th>4</th>\n",
       "      <td>1970-01-01 00:00:00.000000001</td>\n",
       "      <td>0</td>\n",
       "      <td>20</td>\n",
       "      <td>female</td>\n",
       "      <td>Seoul</td>\n",
       "      <td>Dongjag-gu</td>\n",
       "      <td>28880</td>\n",
       "    </tr>\n",
       "  </tbody>\n",
       "</table>\n",
       "</div>"
      ],
      "text/plain": [
       "                           date  hour  birth_year     sex province  \\\n",
       "0 1970-01-01 00:00:00.000000001     0          20  female    Seoul   \n",
       "1 1970-01-01 00:00:00.000000001     0          20    male    Seoul   \n",
       "2 1970-01-01 00:00:00.000000001     0          20  female    Seoul   \n",
       "3 1970-01-01 00:00:00.000000001     0          20    male    Seoul   \n",
       "4 1970-01-01 00:00:00.000000001     0          20  female    Seoul   \n",
       "\n",
       "            city  fp_num  \n",
       "0      Dobong-gu   19140  \n",
       "1      Dobong-gu   19950  \n",
       "2  Dongdaemun-gu   25450  \n",
       "3  Dongdaemun-gu   27050  \n",
       "4     Dongjag-gu   28880  "
      ]
     },
     "execution_count": 56,
     "metadata": {},
     "output_type": "execute_result"
    }
   ],
   "source": [
    "floating.head()"
   ]
  },
  {
   "cell_type": "code",
   "execution_count": 5,
   "id": "44ab25c6",
   "metadata": {},
   "outputs": [
    {
     "data": {
      "text/html": [
       "<div>\n",
       "<style scoped>\n",
       "    .dataframe tbody tr th:only-of-type {\n",
       "        vertical-align: middle;\n",
       "    }\n",
       "\n",
       "    .dataframe tbody tr th {\n",
       "        vertical-align: top;\n",
       "    }\n",
       "\n",
       "    .dataframe thead th {\n",
       "        text-align: right;\n",
       "    }\n",
       "</style>\n",
       "<table border=\"1\" class=\"dataframe\">\n",
       "  <thead>\n",
       "    <tr style=\"text-align: right;\">\n",
       "      <th></th>\n",
       "      <th>date</th>\n",
       "      <th>hour</th>\n",
       "      <th>birth_year</th>\n",
       "      <th>sex</th>\n",
       "      <th>province</th>\n",
       "      <th>city</th>\n",
       "      <th>fp_num</th>\n",
       "    </tr>\n",
       "  </thead>\n",
       "  <tbody>\n",
       "    <tr>\n",
       "      <th>1084795</th>\n",
       "      <td>2020-05-31</td>\n",
       "      <td>21</td>\n",
       "      <td>40</td>\n",
       "      <td>female</td>\n",
       "      <td>Seoul</td>\n",
       "      <td>Dobong-gu</td>\n",
       "      <td>27620</td>\n",
       "    </tr>\n",
       "    <tr>\n",
       "      <th>1084796</th>\n",
       "      <td>2020-05-31</td>\n",
       "      <td>21</td>\n",
       "      <td>40</td>\n",
       "      <td>female</td>\n",
       "      <td>Seoul</td>\n",
       "      <td>Songpa-gu</td>\n",
       "      <td>56560</td>\n",
       "    </tr>\n",
       "    <tr>\n",
       "      <th>1084797</th>\n",
       "      <td>2020-05-31</td>\n",
       "      <td>21</td>\n",
       "      <td>50</td>\n",
       "      <td>female</td>\n",
       "      <td>Seoul</td>\n",
       "      <td>Gangdong-gu</td>\n",
       "      <td>38960</td>\n",
       "    </tr>\n",
       "    <tr>\n",
       "      <th>1084798</th>\n",
       "      <td>2020-05-31</td>\n",
       "      <td>22</td>\n",
       "      <td>60</td>\n",
       "      <td>female</td>\n",
       "      <td>Seoul</td>\n",
       "      <td>Guro-gu</td>\n",
       "      <td>25420</td>\n",
       "    </tr>\n",
       "    <tr>\n",
       "      <th>1084799</th>\n",
       "      <td>2020-05-31</td>\n",
       "      <td>23</td>\n",
       "      <td>40</td>\n",
       "      <td>male</td>\n",
       "      <td>Seoul</td>\n",
       "      <td>Eunpyeong-gu</td>\n",
       "      <td>38650</td>\n",
       "    </tr>\n",
       "  </tbody>\n",
       "</table>\n",
       "</div>"
      ],
      "text/plain": [
       "               date  hour  birth_year     sex province          city  fp_num\n",
       "1084795  2020-05-31    21          40  female    Seoul     Dobong-gu   27620\n",
       "1084796  2020-05-31    21          40  female    Seoul     Songpa-gu   56560\n",
       "1084797  2020-05-31    21          50  female    Seoul   Gangdong-gu   38960\n",
       "1084798  2020-05-31    22          60  female    Seoul       Guro-gu   25420\n",
       "1084799  2020-05-31    23          40    male    Seoul  Eunpyeong-gu   38650"
      ]
     },
     "execution_count": 5,
     "metadata": {},
     "output_type": "execute_result"
    }
   ],
   "source": [
    "floating.tail()"
   ]
  },
  {
   "cell_type": "code",
   "execution_count": 10,
   "id": "896e0d53",
   "metadata": {},
   "outputs": [
    {
     "data": {
      "image/png": "[encoded data removed]",
      "text/plain": [
       "<Figure size 432x288 with 1 Axes>"
      ]
     },
     "metadata": {
      "needs_background": "light"
     },
     "output_type": "display_data"
    }
   ],
   "source": [
    "sns.kdeplot(floating['fp_num'])\n",
    "plt.show()"
   ]
  },
  {
   "cell_type": "code",
   "execution_count": 11,
   "id": "f7703e75",
   "metadata": {},
   "outputs": [
    {
     "data": {
      "image/png": "[encoded data removed]",
      "text/plain": [
       "<Figure size 720x360 with 1 Axes>"
      ]
     },
     "metadata": {
      "needs_background": "light"
     },
     "output_type": "display_data"
    }
   ],
   "source": [
    "plt.figure(figsize=(10,5)) # 빈 캔버스 사이즈 지정\n",
    "dist=sns.distplot(floating['fp_num'],kde=False) # kde=False를 넣어보자\n",
    "dist.set_xlabel(\"바이크 주행 시간(분)\")\n",
    "dist.set_ylabel(\"비율\")\n",
    "plt.show() # 다 그려진 캔버스 보여주기"
   ]
  },
  {
   "cell_type": "markdown",
   "id": "cfb15368",
   "metadata": {},
   "source": [
    "# 정부 정책에 따른 확진자수 변화 "
   ]
  },
  {
   "cell_type": "code",
   "execution_count": 6,
   "id": "61638199",
   "metadata": {},
   "outputs": [],
   "source": [
    "data_dir = os.getenv('HOME')+'/aiffel/datathon/data'\n",
    "\n",
    "policy_data_path = join(data_dir, 'Policy.csv')\n",
    "\n",
    "policy = pd.read_csv(policy_data_path)"
   ]
  },
  {
   "cell_type": "code",
   "execution_count": 7,
   "id": "7ddf5766",
   "metadata": {},
   "outputs": [
    {
     "data": {
      "text/html": [
       "<div>\n",
       "<style scoped>\n",
       "    .dataframe tbody tr th:only-of-type {\n",
       "        vertical-align: middle;\n",
       "    }\n",
       "\n",
       "    .dataframe tbody tr th {\n",
       "        vertical-align: top;\n",
       "    }\n",
       "\n",
       "    .dataframe thead th {\n",
       "        text-align: right;\n",
       "    }\n",
       "</style>\n",
       "<table border=\"1\" class=\"dataframe\">\n",
       "  <thead>\n",
       "    <tr style=\"text-align: right;\">\n",
       "      <th></th>\n",
       "      <th>policy_id</th>\n",
       "      <th>country</th>\n",
       "      <th>type</th>\n",
       "      <th>gov_policy</th>\n",
       "      <th>detail</th>\n",
       "      <th>start_date</th>\n",
       "      <th>end_date</th>\n",
       "    </tr>\n",
       "  </thead>\n",
       "  <tbody>\n",
       "    <tr>\n",
       "      <th>56</th>\n",
       "      <td>57</td>\n",
       "      <td>Korea</td>\n",
       "      <td>Transformation</td>\n",
       "      <td>Logistics center</td>\n",
       "      <td>On-site inspection of major logistics faciliti...</td>\n",
       "      <td>2020-05-29</td>\n",
       "      <td>2020-06-11</td>\n",
       "    </tr>\n",
       "    <tr>\n",
       "      <th>57</th>\n",
       "      <td>58</td>\n",
       "      <td>Korea</td>\n",
       "      <td>Transformation</td>\n",
       "      <td>Wearing of masks</td>\n",
       "      <td>Mandatory wearing of passenger mask domestic, ...</td>\n",
       "      <td>2020-05-27</td>\n",
       "      <td>NaN</td>\n",
       "    </tr>\n",
       "    <tr>\n",
       "      <th>58</th>\n",
       "      <td>59</td>\n",
       "      <td>Korea</td>\n",
       "      <td>Transformation</td>\n",
       "      <td>Wearing of masks</td>\n",
       "      <td>Drivers such as buses and taxis can refuse to ...</td>\n",
       "      <td>2020-05-26</td>\n",
       "      <td>NaN</td>\n",
       "    </tr>\n",
       "    <tr>\n",
       "      <th>59</th>\n",
       "      <td>60</td>\n",
       "      <td>Korea</td>\n",
       "      <td>Technology</td>\n",
       "      <td>KI-Pass: Korea Internet - Pass</td>\n",
       "      <td>new quick response (QR) code system this week ...</td>\n",
       "      <td>2020-06-10</td>\n",
       "      <td>NaN</td>\n",
       "    </tr>\n",
       "    <tr>\n",
       "      <th>60</th>\n",
       "      <td>61</td>\n",
       "      <td>Korea</td>\n",
       "      <td>Health</td>\n",
       "      <td>Extends Tightened Quarantine Measures</td>\n",
       "      <td>Gov't Extends Tightened Quarantine Measures in...</td>\n",
       "      <td>2020-05-28</td>\n",
       "      <td>2020-06-14</td>\n",
       "    </tr>\n",
       "  </tbody>\n",
       "</table>\n",
       "</div>"
      ],
      "text/plain": [
       "    policy_id country            type                              gov_policy  \\\n",
       "56         57   Korea  Transformation                        Logistics center   \n",
       "57         58   Korea  Transformation                        Wearing of masks   \n",
       "58         59   Korea  Transformation                        Wearing of masks   \n",
       "59         60   Korea      Technology          KI-Pass: Korea Internet - Pass   \n",
       "60         61   Korea          Health  Extends Tightened Quarantine Measures    \n",
       "\n",
       "                                               detail  start_date    end_date  \n",
       "56  On-site inspection of major logistics faciliti...  2020-05-29  2020-06-11  \n",
       "57  Mandatory wearing of passenger mask domestic, ...  2020-05-27         NaN  \n",
       "58  Drivers such as buses and taxis can refuse to ...  2020-05-26         NaN  \n",
       "59  new quick response (QR) code system this week ...  2020-06-10         NaN  \n",
       "60  Gov't Extends Tightened Quarantine Measures in...  2020-05-28  2020-06-14  "
      ]
     },
     "execution_count": 7,
     "metadata": {},
     "output_type": "execute_result"
    }
   ],
   "source": [
    "policy.tail()"
   ]
  },
  {
   "cell_type": "code",
   "execution_count": 8,
   "id": "bc086638",
   "metadata": {},
   "outputs": [
    {
     "name": "stdout",
     "output_type": "stream",
     "text": [
      "(5165, 14)\n"
     ]
    }
   ],
   "source": [
    "patient_data_path = join(data_dir, 'PatientInfo.csv')\n",
    "\n",
    "patient = pd.read_csv(patient_data_path)\n",
    "#patient[\"confirmed_date\"] = pd.to_datetime(patient[\"confirmed_date\"])\n",
    "print(patient.shape)"
   ]
  },
  {
   "cell_type": "code",
   "execution_count": 40,
   "id": "ee654a37",
   "metadata": {
    "scrolled": true
   },
   "outputs": [
    {
     "data": {
      "text/html": [
       "<div>\n",
       "<style scoped>\n",
       "    .dataframe tbody tr th:only-of-type {\n",
       "        vertical-align: middle;\n",
       "    }\n",
       "\n",
       "    .dataframe tbody tr th {\n",
       "        vertical-align: top;\n",
       "    }\n",
       "\n",
       "    .dataframe thead th {\n",
       "        text-align: right;\n",
       "    }\n",
       "</style>\n",
       "<table border=\"1\" class=\"dataframe\">\n",
       "  <thead>\n",
       "    <tr style=\"text-align: right;\">\n",
       "      <th></th>\n",
       "      <th>patient_id</th>\n",
       "      <th>sex</th>\n",
       "      <th>age</th>\n",
       "      <th>country</th>\n",
       "      <th>province</th>\n",
       "      <th>city</th>\n",
       "      <th>infection_case</th>\n",
       "      <th>infected_by</th>\n",
       "      <th>contact_number</th>\n",
       "      <th>symptom_onset_date</th>\n",
       "      <th>confirmed_date</th>\n",
       "      <th>released_date</th>\n",
       "      <th>deceased_date</th>\n",
       "      <th>state</th>\n",
       "    </tr>\n",
       "  </thead>\n",
       "  <tbody>\n",
       "    <tr>\n",
       "      <th>5160</th>\n",
       "      <td>7000000015</td>\n",
       "      <td>female</td>\n",
       "      <td>30s</td>\n",
       "      <td>Korea</td>\n",
       "      <td>Jeju-do</td>\n",
       "      <td>Jeju-do</td>\n",
       "      <td>overseas inflow</td>\n",
       "      <td>NaN</td>\n",
       "      <td>25</td>\n",
       "      <td>NaN</td>\n",
       "      <td>2020-05-30</td>\n",
       "      <td>2020-06-13</td>\n",
       "      <td>NaN</td>\n",
       "      <td>released</td>\n",
       "    </tr>\n",
       "    <tr>\n",
       "      <th>5161</th>\n",
       "      <td>7000000016</td>\n",
       "      <td>NaN</td>\n",
       "      <td>NaN</td>\n",
       "      <td>Korea</td>\n",
       "      <td>Jeju-do</td>\n",
       "      <td>Jeju-do</td>\n",
       "      <td>overseas inflow</td>\n",
       "      <td>NaN</td>\n",
       "      <td>NaN</td>\n",
       "      <td>NaN</td>\n",
       "      <td>2020-06-16</td>\n",
       "      <td>2020-06-24</td>\n",
       "      <td>NaN</td>\n",
       "      <td>released</td>\n",
       "    </tr>\n",
       "    <tr>\n",
       "      <th>5162</th>\n",
       "      <td>7000000017</td>\n",
       "      <td>NaN</td>\n",
       "      <td>NaN</td>\n",
       "      <td>Bangladesh</td>\n",
       "      <td>Jeju-do</td>\n",
       "      <td>Jeju-do</td>\n",
       "      <td>overseas inflow</td>\n",
       "      <td>NaN</td>\n",
       "      <td>72</td>\n",
       "      <td>NaN</td>\n",
       "      <td>2020-06-18</td>\n",
       "      <td>NaN</td>\n",
       "      <td>NaN</td>\n",
       "      <td>isolated</td>\n",
       "    </tr>\n",
       "    <tr>\n",
       "      <th>5163</th>\n",
       "      <td>7000000018</td>\n",
       "      <td>NaN</td>\n",
       "      <td>NaN</td>\n",
       "      <td>Bangladesh</td>\n",
       "      <td>Jeju-do</td>\n",
       "      <td>Jeju-do</td>\n",
       "      <td>overseas inflow</td>\n",
       "      <td>NaN</td>\n",
       "      <td>NaN</td>\n",
       "      <td>NaN</td>\n",
       "      <td>2020-06-18</td>\n",
       "      <td>NaN</td>\n",
       "      <td>NaN</td>\n",
       "      <td>isolated</td>\n",
       "    </tr>\n",
       "    <tr>\n",
       "      <th>5164</th>\n",
       "      <td>7000000019</td>\n",
       "      <td>NaN</td>\n",
       "      <td>NaN</td>\n",
       "      <td>Bangladesh</td>\n",
       "      <td>Jeju-do</td>\n",
       "      <td>Jeju-do</td>\n",
       "      <td>overseas inflow</td>\n",
       "      <td>NaN</td>\n",
       "      <td>NaN</td>\n",
       "      <td>NaN</td>\n",
       "      <td>2020-06-18</td>\n",
       "      <td>NaN</td>\n",
       "      <td>NaN</td>\n",
       "      <td>isolated</td>\n",
       "    </tr>\n",
       "  </tbody>\n",
       "</table>\n",
       "</div>"
      ],
      "text/plain": [
       "      patient_id     sex  age     country province     city   infection_case  \\\n",
       "5160  7000000015  female  30s       Korea  Jeju-do  Jeju-do  overseas inflow   \n",
       "5161  7000000016     NaN  NaN       Korea  Jeju-do  Jeju-do  overseas inflow   \n",
       "5162  7000000017     NaN  NaN  Bangladesh  Jeju-do  Jeju-do  overseas inflow   \n",
       "5163  7000000018     NaN  NaN  Bangladesh  Jeju-do  Jeju-do  overseas inflow   \n",
       "5164  7000000019     NaN  NaN  Bangladesh  Jeju-do  Jeju-do  overseas inflow   \n",
       "\n",
       "     infected_by contact_number symptom_onset_date confirmed_date  \\\n",
       "5160         NaN             25                NaN     2020-05-30   \n",
       "5161         NaN            NaN                NaN     2020-06-16   \n",
       "5162         NaN             72                NaN     2020-06-18   \n",
       "5163         NaN            NaN                NaN     2020-06-18   \n",
       "5164         NaN            NaN                NaN     2020-06-18   \n",
       "\n",
       "     released_date deceased_date     state  \n",
       "5160    2020-06-13           NaN  released  \n",
       "5161    2020-06-24           NaN  released  \n",
       "5162           NaN           NaN  isolated  \n",
       "5163           NaN           NaN  isolated  \n",
       "5164           NaN           NaN  isolated  "
      ]
     },
     "execution_count": 40,
     "metadata": {},
     "output_type": "execute_result"
    }
   ],
   "source": [
    "patient.tail()"
   ]
  },
  {
   "cell_type": "code",
   "execution_count": 57,
   "id": "b9e66647",
   "metadata": {},
   "outputs": [
    {
     "name": "stdout",
     "output_type": "stream",
     "text": [
      "(5165,)\n"
     ]
    },
    {
     "data": {
      "text/html": [
       "<div>\n",
       "<style scoped>\n",
       "    .dataframe tbody tr th:only-of-type {\n",
       "        vertical-align: middle;\n",
       "    }\n",
       "\n",
       "    .dataframe tbody tr th {\n",
       "        vertical-align: top;\n",
       "    }\n",
       "\n",
       "    .dataframe thead th {\n",
       "        text-align: right;\n",
       "    }\n",
       "</style>\n",
       "<table border=\"1\" class=\"dataframe\">\n",
       "  <thead>\n",
       "    <tr style=\"text-align: right;\">\n",
       "      <th></th>\n",
       "      <th>patient_id</th>\n",
       "      <th>sex</th>\n",
       "      <th>age</th>\n",
       "      <th>country</th>\n",
       "      <th>province</th>\n",
       "      <th>city</th>\n",
       "      <th>infection_case</th>\n",
       "      <th>infected_by</th>\n",
       "      <th>contact_number</th>\n",
       "      <th>symptom_onset_date</th>\n",
       "      <th>confirmed_date</th>\n",
       "      <th>released_date</th>\n",
       "      <th>deceased_date</th>\n",
       "      <th>state</th>\n",
       "    </tr>\n",
       "  </thead>\n",
       "  <tbody>\n",
       "    <tr>\n",
       "      <th>5160</th>\n",
       "      <td>7000000015</td>\n",
       "      <td>female</td>\n",
       "      <td>30s</td>\n",
       "      <td>Korea</td>\n",
       "      <td>Jeju-do</td>\n",
       "      <td>Jeju-do</td>\n",
       "      <td>overseas inflow</td>\n",
       "      <td>NaN</td>\n",
       "      <td>25</td>\n",
       "      <td>NaN</td>\n",
       "      <td>2020-05-30</td>\n",
       "      <td>2020-06-13</td>\n",
       "      <td>NaN</td>\n",
       "      <td>released</td>\n",
       "    </tr>\n",
       "    <tr>\n",
       "      <th>5161</th>\n",
       "      <td>7000000016</td>\n",
       "      <td>NaN</td>\n",
       "      <td>NaN</td>\n",
       "      <td>Korea</td>\n",
       "      <td>Jeju-do</td>\n",
       "      <td>Jeju-do</td>\n",
       "      <td>overseas inflow</td>\n",
       "      <td>NaN</td>\n",
       "      <td>NaN</td>\n",
       "      <td>NaN</td>\n",
       "      <td>2020-06-16</td>\n",
       "      <td>2020-06-24</td>\n",
       "      <td>NaN</td>\n",
       "      <td>released</td>\n",
       "    </tr>\n",
       "    <tr>\n",
       "      <th>5162</th>\n",
       "      <td>7000000017</td>\n",
       "      <td>NaN</td>\n",
       "      <td>NaN</td>\n",
       "      <td>Bangladesh</td>\n",
       "      <td>Jeju-do</td>\n",
       "      <td>Jeju-do</td>\n",
       "      <td>overseas inflow</td>\n",
       "      <td>NaN</td>\n",
       "      <td>72</td>\n",
       "      <td>NaN</td>\n",
       "      <td>2020-06-18</td>\n",
       "      <td>NaN</td>\n",
       "      <td>NaN</td>\n",
       "      <td>isolated</td>\n",
       "    </tr>\n",
       "    <tr>\n",
       "      <th>5163</th>\n",
       "      <td>7000000018</td>\n",
       "      <td>NaN</td>\n",
       "      <td>NaN</td>\n",
       "      <td>Bangladesh</td>\n",
       "      <td>Jeju-do</td>\n",
       "      <td>Jeju-do</td>\n",
       "      <td>overseas inflow</td>\n",
       "      <td>NaN</td>\n",
       "      <td>NaN</td>\n",
       "      <td>NaN</td>\n",
       "      <td>2020-06-18</td>\n",
       "      <td>NaN</td>\n",
       "      <td>NaN</td>\n",
       "      <td>isolated</td>\n",
       "    </tr>\n",
       "    <tr>\n",
       "      <th>5164</th>\n",
       "      <td>7000000019</td>\n",
       "      <td>NaN</td>\n",
       "      <td>NaN</td>\n",
       "      <td>Bangladesh</td>\n",
       "      <td>Jeju-do</td>\n",
       "      <td>Jeju-do</td>\n",
       "      <td>overseas inflow</td>\n",
       "      <td>NaN</td>\n",
       "      <td>NaN</td>\n",
       "      <td>NaN</td>\n",
       "      <td>2020-06-18</td>\n",
       "      <td>NaN</td>\n",
       "      <td>NaN</td>\n",
       "      <td>isolated</td>\n",
       "    </tr>\n",
       "  </tbody>\n",
       "</table>\n",
       "</div>"
      ],
      "text/plain": [
       "      patient_id     sex  age     country province     city   infection_case  \\\n",
       "5160  7000000015  female  30s       Korea  Jeju-do  Jeju-do  overseas inflow   \n",
       "5161  7000000016     NaN  NaN       Korea  Jeju-do  Jeju-do  overseas inflow   \n",
       "5162  7000000017     NaN  NaN  Bangladesh  Jeju-do  Jeju-do  overseas inflow   \n",
       "5163  7000000018     NaN  NaN  Bangladesh  Jeju-do  Jeju-do  overseas inflow   \n",
       "5164  7000000019     NaN  NaN  Bangladesh  Jeju-do  Jeju-do  overseas inflow   \n",
       "\n",
       "     infected_by contact_number symptom_onset_date confirmed_date  \\\n",
       "5160         NaN             25                NaN     2020-05-30   \n",
       "5161         NaN            NaN                NaN     2020-06-16   \n",
       "5162         NaN             72                NaN     2020-06-18   \n",
       "5163         NaN            NaN                NaN     2020-06-18   \n",
       "5164         NaN            NaN                NaN     2020-06-18   \n",
       "\n",
       "     released_date deceased_date     state  \n",
       "5160    2020-06-13           NaN  released  \n",
       "5161    2020-06-24           NaN  released  \n",
       "5162           NaN           NaN  isolated  \n",
       "5163           NaN           NaN  isolated  \n",
       "5164           NaN           NaN  isolated  "
      ]
     },
     "execution_count": 57,
     "metadata": {},
     "output_type": "execute_result"
    }
   ],
   "source": [
    "# patient_null = patient['patient_id'].dropna()\n",
    "# print(patient_null.shape)\n",
    "# patient.tail()"
   ]
  },
  {
   "cell_type": "code",
   "execution_count": 26,
   "id": "cd8f8192",
   "metadata": {},
   "outputs": [
    {
     "name": "stdout",
     "output_type": "stream",
     "text": [
      "DatetimeIndex(['2020-01-20', '2020-01-23', '2020-01-26', '2020-01-27',\n",
      "               '2020-01-30', '2020-01-31', '2020-02-01', '2020-02-02',\n",
      "               '2020-02-03', '2020-02-05',\n",
      "               ...\n",
      "               '2020-06-21', '2020-06-22', '2020-06-23', '2020-06-24',\n",
      "               '2020-06-25', '2020-06-26', '2020-06-27', '2020-06-28',\n",
      "               '2020-06-29', '2020-06-30'],\n",
      "              dtype='datetime64[ns]', length=148, freq=None)\n"
     ]
    },
    {
     "data": {
      "text/plain": [
       "pandas.core.indexes.datetimes.DatetimeIndex"
      ]
     },
     "execution_count": 26,
     "metadata": {},
     "output_type": "execute_result"
    }
   ],
   "source": [
    "#x축\n",
    "from datetime import datetime\n",
    "duration = patient[\"confirmed_date\"].unique()\n",
    "# duration = pd.to_datetime(duration)\n",
    "\n",
    "duration= duration[:-1]\n",
    "duration = pd.to_datetime(duration).sort_values()\n",
    "print(duration)\n",
    "type(duration)\n",
    "# duration=duration.loc[datetime(2020, 1, 23):datetime(2020, 6, 30)]"
   ]
  },
  {
   "cell_type": "code",
   "execution_count": 27,
   "id": "f85ad74b",
   "metadata": {
    "scrolled": true
   },
   "outputs": [
    {
     "name": "stdout",
     "output_type": "stream",
     "text": [
      "(148,)\n"
     ]
    }
   ],
   "source": [
    "#y축\n",
    "# patient.groupby(patient['confirmed_date']).count() \n",
    "confirmed_case = patient[\"confirmed_date\"].value_counts()\n",
    "print(confirmed_case.shape)"
   ]
  },
  {
   "cell_type": "code",
   "execution_count": 58,
   "id": "84f30914",
   "metadata": {},
   "outputs": [
    {
     "data": {
      "image/png": "[encoded data removed]",
      "text/plain": [
       "<Figure size 1440x720 with 1 Axes>"
      ]
     },
     "metadata": {
      "needs_background": "light"
     },
     "output_type": "display_data"
    }
   ],
   "source": [
    "plt.figure(figsize=(20,10)) \n",
    "plt.plot(duration,confirmed_case)\n",
    "plt.show()"
   ]
  },
  {
   "cell_type": "markdown",
   "id": "a6a99958",
   "metadata": {},
   "source": [
    "확진자 감소 추이가 "
   ]
  },
  {
   "cell_type": "code",
   "execution_count": 29,
   "id": "f91ce0d4",
   "metadata": {},
   "outputs": [
    {
     "name": "stdout",
     "output_type": "stream",
     "text": [
      "(1642, 5)\n"
     ]
    }
   ],
   "source": [
    "search_data_path = join(data_dir, 'SearchTrend.csv')\n",
    "\n",
    "search = pd.read_csv(search_data_path)\n",
    "#patient[\"confirmed_date\"] = pd.to_datetime(patient[\"confirmed_date\"])\n",
    "print(search.shape)"
   ]
  },
  {
   "cell_type": "code",
   "execution_count": 30,
   "id": "46c3149f",
   "metadata": {},
   "outputs": [
    {
     "data": {
      "text/plain": [
       "Index(['date', 'cold', 'flu', 'pneumonia', 'coronavirus'], dtype='object')"
      ]
     },
     "execution_count": 30,
     "metadata": {},
     "output_type": "execute_result"
    }
   ],
   "source": [
    "search.columns"
   ]
  },
  {
   "cell_type": "code",
   "execution_count": 32,
   "id": "ca9bb1f5",
   "metadata": {},
   "outputs": [
    {
     "name": "stdout",
     "output_type": "stream",
     "text": [
      "<class 'pandas.core.frame.DataFrame'>\n",
      "RangeIndex: 1642 entries, 0 to 1641\n",
      "Data columns (total 5 columns):\n",
      " #   Column       Non-Null Count  Dtype  \n",
      "---  ------       --------------  -----  \n",
      " 0   date         1642 non-null   object \n",
      " 1   cold         1642 non-null   float64\n",
      " 2   flu          1642 non-null   float64\n",
      " 3   pneumonia    1642 non-null   float64\n",
      " 4   coronavirus  1642 non-null   float64\n",
      "dtypes: float64(4), object(1)\n",
      "memory usage: 64.3+ KB\n"
     ]
    }
   ],
   "source": [
    "search.info()"
   ]
  },
  {
   "cell_type": "code",
   "execution_count": 51,
   "id": "5ce247b0",
   "metadata": {},
   "outputs": [],
   "source": [
    "floating2 = pd.read_csv(floating_data_path)"
   ]
  },
  {
   "cell_type": "markdown",
   "id": "cb4ee2ec",
   "metadata": {},
   "source": [
    "# 일자별 이동량 합산"
   ]
  },
  {
   "cell_type": "code",
   "execution_count": 55,
   "id": "4d7be53f",
   "metadata": {},
   "outputs": [
    {
     "data": {
      "text/plain": [
       "date\n",
       "2020-01-01    192406170\n",
       "2020-01-02    202929360\n",
       "2020-01-03    203337150\n",
       "2020-01-04    197396050\n",
       "2020-01-05    195747670\n",
       "                ...    \n",
       "2020-05-27    199293080\n",
       "2020-05-28    199209840\n",
       "2020-05-29    140847320\n",
       "2020-05-30    189674150\n",
       "2020-05-31    188346500\n",
       "Name: fp_num, Length: 151, dtype: int64"
      ]
     },
     "execution_count": 55,
     "metadata": {},
     "output_type": "execute_result"
    }
   ],
   "source": [
    "fl = floating2.groupby(by = 'date').fp_num.agg('sum')\n",
    "fl"
   ]
  },
  {
   "cell_type": "code",
   "execution_count": 66,
   "id": "efd2088a",
   "metadata": {},
   "outputs": [
    {
     "data": {
      "text/plain": [
       "'2020-02-23'"
      ]
     },
     "execution_count": 66,
     "metadata": {},
     "output_type": "execute_result"
    }
   ],
   "source": [
    "# a = fl.max()\n",
    "# index = fl.index(a)\n",
    "# index\n",
    "fl[fl == fl.max()].index[0]"
   ]
  },
  {
   "cell_type": "code",
   "execution_count": 67,
   "id": "25e0cc12",
   "metadata": {},
   "outputs": [
    {
     "data": {
      "text/plain": [
       "'2020-05-29'"
      ]
     },
     "execution_count": 67,
     "metadata": {},
     "output_type": "execute_result"
    }
   ],
   "source": [
    "fl[fl == fl.min()].index[0]"
   ]
  },
  {
   "cell_type": "code",
   "execution_count": 68,
   "id": "5cd48285",
   "metadata": {},
   "outputs": [
    {
     "data": {
      "image/png": "[encoded data removed]",
      "text/plain": [
       "<Figure size 2880x1440 with 1 Axes>"
      ]
     },
     "metadata": {
      "needs_background": "light"
     },
     "output_type": "display_data"
    }
   ],
   "source": [
    "plt.figure(figsize=(40,20)) \n",
    "plt.plot(fl)\n",
    "plt.show()"
   ]
  },
  {
   "cell_type": "markdown",
   "id": "88be5240",
   "metadata": {},
   "source": [
    "# 연령대별 이동량 합산"
   ]
  }
 ],
 "metadata": {
  "kernelspec": {
   "display_name": "Python 3 (ipykernel)",
   "language": "python",
   "name": "python3"
  },
  "language_info": {
   "codemirror_mode": {
    "name": "ipython",
    "version": 3
   },
   "file_extension": ".py",
   "mimetype": "text/x-python",
   "name": "python",
   "nbconvert_exporter": "python",
   "pygments_lexer": "ipython3",
   "version": "3.9.7"
  }
 },
 "nbformat": 4,
 "nbformat_minor": 5
}
