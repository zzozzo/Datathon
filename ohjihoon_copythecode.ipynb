{
  "nbformat": 4,
  "nbformat_minor": 0,
  "metadata": {
    "colab": {
      "name": "ohjihoon-copythecode.ipynb",
      "provenance": [],
      "collapsed_sections": [],
      "mount_file_id": "1SuCbX0GvzBOM91VCHaz13akoTdnZSOs_",
      "authorship_tag": "ABX9TyPSkX4BMx7tTn/PpRk9boP7",
      "include_colab_link": true
    },
    "kernelspec": {
      "name": "python3",
      "display_name": "Python 3"
    },
    "language_info": {
      "name": "python"
    }
  },
  "cells": [
    {
      "cell_type": "markdown",
      "metadata": {
        "id": "view-in-github",
        "colab_type": "text"
      },
      "source": [
        "<a href=\"https://colab.research.google.com/github/zzozzo/Datathon/blob/main/ohjihoon_copythecode.ipynb\" target=\"_parent\"><img src=\"https://colab.research.google.com/assets/colab-badge.svg\" alt=\"Open In Colab\"/></a>"
      ]
    },
    {
      "cell_type": "markdown",
      "source": [
        "제가 맡은 일에 대해 정리한 것들 입니다.\n",
        "\n",
        "- 3D 산점도를 이용한 상관 관계 분석해서 가설을 성립, 인 사이트 도출\n",
        "    - 나이 분류, 지역 분류, 성별 분류, 월 단위 분류\n",
        "    - 3D 산점도 사용, 선 그래프 사용\n",
        "\n",
        "- **날짜에 따른 지역별 확진자 수 현황**\n",
        "    - 지역 분류, 성별, 나이 고려 할 것인지 정해야함. 월 단위로 할 건지 정해야함.\n",
        "    - 선 그래프 사용\n",
        "\n",
        "- **나이대 및 성별 누적 확진자수**\n",
        "    - 성별, 나이 분류,\n",
        "    - 월별 누적인지, 총 합 누적 값인지 정해야함.`cumsum()`: 누적 합을 계산.\n",
        "    - 선 그래프 사용\n",
        "\n"
      ],
      "metadata": {
        "id": "Q4THOF1gFvzS"
      }
    },
    {
      "cell_type": "code",
      "source": [
        "from google.colab import drive\n",
        "drive.mount('/content/drive')"
      ],
      "metadata": {
        "colab": {
          "base_uri": "https://localhost:8080/"
        },
        "id": "C_S4KJfDpcJH",
        "outputId": "548f7841-aa62-4361-9bcd-420552743f8d"
      },
      "execution_count": 2,
      "outputs": [
        {
          "output_type": "stream",
          "name": "stdout",
          "text": [
            "Drive already mounted at /content/drive; to attempt to forcibly remount, call drive.mount(\"/content/drive\", force_remount=True).\n"
          ]
        }
      ]
    },
    {
      "cell_type": "code",
      "execution_count": 3,
      "metadata": {
        "id": "1t7xP1SYo34k"
      },
      "outputs": [],
      "source": [
        "import pandas as pd\n",
        "\n",
        "C_df = pd.read_csv('/content/drive/MyDrive/aiffeldata/coviddb/Case.csv')\n",
        "PI_df = pd.read_csv('/content/drive/MyDrive/aiffeldata/coviddb/PatientInfo.csv')\n",
        "Pol_df = pd.read_csv('/content/drive/MyDrive/aiffeldata/coviddb/Policy.csv')\n",
        "R_df = pd.read_csv('/content/drive/MyDrive/aiffeldata/coviddb/Region.csv')\n",
        "ST_df = pd.read_csv('/content/drive/MyDrive/aiffeldata/coviddb/SearchTrend.csv')\n",
        "SF_df = pd.read_csv('/content/drive/MyDrive/aiffeldata/coviddb/SeoulFloating.csv')\n",
        "T_df = pd.read_csv('/content/drive/MyDrive/aiffeldata/coviddb/Time.csv')\n",
        "TA_df = pd.read_csv('/content/drive/MyDrive/aiffeldata/coviddb/TimeAge.csv')\n",
        "TG_df = pd.read_csv('/content/drive/MyDrive/aiffeldata/coviddb/TimeGender.csv')\n",
        "TP_df = pd.read_csv('/content/drive/MyDrive/aiffeldata/coviddb/TimeProvince.csv')\n",
        "W_df = pd.read_csv('/content/drive/MyDrive/aiffeldata/coviddb/Weather.csv')\n"
      ]
    },
    {
      "cell_type": "code",
      "source": [
        "age_arr = PI_df.iloc[:,[2,10]]\n",
        "age_arr.info()"
      ],
      "metadata": {
        "colab": {
          "base_uri": "https://localhost:8080/"
        },
        "id": "HffdrOj5L9CW",
        "outputId": "0472a3fb-4895-43ed-b481-6db2ecc0716b"
      },
      "execution_count": 4,
      "outputs": [
        {
          "output_type": "stream",
          "name": "stdout",
          "text": [
            "<class 'pandas.core.frame.DataFrame'>\n",
            "RangeIndex: 5165 entries, 0 to 5164\n",
            "Data columns (total 2 columns):\n",
            " #   Column          Non-Null Count  Dtype \n",
            "---  ------          --------------  ----- \n",
            " 0   age             3784 non-null   object\n",
            " 1   confirmed_date  5161 non-null   object\n",
            "dtypes: object(2)\n",
            "memory usage: 80.8+ KB\n"
          ]
        }
      ]
    },
    {
      "cell_type": "code",
      "source": [
        "age_arr[age_arr['confirmed_date'].isnull()]"
      ],
      "metadata": {
        "colab": {
          "base_uri": "https://localhost:8080/",
          "height": 175
        },
        "id": "g9_d3teTMAPA",
        "outputId": "c6715338-7ea6-43ad-d211-c1be8b4a8dbc"
      },
      "execution_count": 5,
      "outputs": [
        {
          "output_type": "execute_result",
          "data": {
            "text/html": [
              "\n",
              "  <div id=\"df-40be4b04-8c19-455c-84b6-6b379e628ad6\">\n",
              "    <div class=\"colab-df-container\">\n",
              "      <div>\n",
              "<style scoped>\n",
              "    .dataframe tbody tr th:only-of-type {\n",
              "        vertical-align: middle;\n",
              "    }\n",
              "\n",
              "    .dataframe tbody tr th {\n",
              "        vertical-align: top;\n",
              "    }\n",
              "\n",
              "    .dataframe thead th {\n",
              "        text-align: right;\n",
              "    }\n",
              "</style>\n",
              "<table border=\"1\" class=\"dataframe\">\n",
              "  <thead>\n",
              "    <tr style=\"text-align: right;\">\n",
              "      <th></th>\n",
              "      <th>age</th>\n",
              "      <th>confirmed_date</th>\n",
              "    </tr>\n",
              "  </thead>\n",
              "  <tbody>\n",
              "    <tr>\n",
              "      <th>2041</th>\n",
              "      <td>NaN</td>\n",
              "      <td>NaN</td>\n",
              "    </tr>\n",
              "    <tr>\n",
              "      <th>4730</th>\n",
              "      <td>40s</td>\n",
              "      <td>NaN</td>\n",
              "    </tr>\n",
              "    <tr>\n",
              "      <th>4731</th>\n",
              "      <td>0s</td>\n",
              "      <td>NaN</td>\n",
              "    </tr>\n",
              "    <tr>\n",
              "      <th>4732</th>\n",
              "      <td>10s</td>\n",
              "      <td>NaN</td>\n",
              "    </tr>\n",
              "  </tbody>\n",
              "</table>\n",
              "</div>\n",
              "      <button class=\"colab-df-convert\" onclick=\"convertToInteractive('df-40be4b04-8c19-455c-84b6-6b379e628ad6')\"\n",
              "              title=\"Convert this dataframe to an interactive table.\"\n",
              "              style=\"display:none;\">\n",
              "        \n",
              "  <svg xmlns=\"http://www.w3.org/2000/svg\" height=\"24px\"viewBox=\"0 0 24 24\"\n",
              "       width=\"24px\">\n",
              "    <path d=\"M0 0h24v24H0V0z\" fill=\"none\"/>\n",
              "    <path d=\"M18.56 5.44l.94 2.06.94-2.06 2.06-.94-2.06-.94-.94-2.06-.94 2.06-2.06.94zm-11 1L8.5 8.5l.94-2.06 2.06-.94-2.06-.94L8.5 2.5l-.94 2.06-2.06.94zm10 10l.94 2.06.94-2.06 2.06-.94-2.06-.94-.94-2.06-.94 2.06-2.06.94z\"/><path d=\"M17.41 7.96l-1.37-1.37c-.4-.4-.92-.59-1.43-.59-.52 0-1.04.2-1.43.59L10.3 9.45l-7.72 7.72c-.78.78-.78 2.05 0 2.83L4 21.41c.39.39.9.59 1.41.59.51 0 1.02-.2 1.41-.59l7.78-7.78 2.81-2.81c.8-.78.8-2.07 0-2.86zM5.41 20L4 18.59l7.72-7.72 1.47 1.35L5.41 20z\"/>\n",
              "  </svg>\n",
              "      </button>\n",
              "      \n",
              "  <style>\n",
              "    .colab-df-container {\n",
              "      display:flex;\n",
              "      flex-wrap:wrap;\n",
              "      gap: 12px;\n",
              "    }\n",
              "\n",
              "    .colab-df-convert {\n",
              "      background-color: #E8F0FE;\n",
              "      border: none;\n",
              "      border-radius: 50%;\n",
              "      cursor: pointer;\n",
              "      display: none;\n",
              "      fill: #1967D2;\n",
              "      height: 32px;\n",
              "      padding: 0 0 0 0;\n",
              "      width: 32px;\n",
              "    }\n",
              "\n",
              "    .colab-df-convert:hover {\n",
              "      background-color: #E2EBFA;\n",
              "      box-shadow: 0px 1px 2px rgba(60, 64, 67, 0.3), 0px 1px 3px 1px rgba(60, 64, 67, 0.15);\n",
              "      fill: #174EA6;\n",
              "    }\n",
              "\n",
              "    [theme=dark] .colab-df-convert {\n",
              "      background-color: #3B4455;\n",
              "      fill: #D2E3FC;\n",
              "    }\n",
              "\n",
              "    [theme=dark] .colab-df-convert:hover {\n",
              "      background-color: #434B5C;\n",
              "      box-shadow: 0px 1px 3px 1px rgba(0, 0, 0, 0.15);\n",
              "      filter: drop-shadow(0px 1px 2px rgba(0, 0, 0, 0.3));\n",
              "      fill: #FFFFFF;\n",
              "    }\n",
              "  </style>\n",
              "\n",
              "      <script>\n",
              "        const buttonEl =\n",
              "          document.querySelector('#df-40be4b04-8c19-455c-84b6-6b379e628ad6 button.colab-df-convert');\n",
              "        buttonEl.style.display =\n",
              "          google.colab.kernel.accessAllowed ? 'block' : 'none';\n",
              "\n",
              "        async function convertToInteractive(key) {\n",
              "          const element = document.querySelector('#df-40be4b04-8c19-455c-84b6-6b379e628ad6');\n",
              "          const dataTable =\n",
              "            await google.colab.kernel.invokeFunction('convertToInteractive',\n",
              "                                                     [key], {});\n",
              "          if (!dataTable) return;\n",
              "\n",
              "          const docLinkHtml = 'Like what you see? Visit the ' +\n",
              "            '<a target=\"_blank\" href=https://colab.research.google.com/notebooks/data_table.ipynb>data table notebook</a>'\n",
              "            + ' to learn more about interactive tables.';\n",
              "          element.innerHTML = '';\n",
              "          dataTable['output_type'] = 'display_data';\n",
              "          await google.colab.output.renderOutput(dataTable, element);\n",
              "          const docLink = document.createElement('div');\n",
              "          docLink.innerHTML = docLinkHtml;\n",
              "          element.appendChild(docLink);\n",
              "        }\n",
              "      </script>\n",
              "    </div>\n",
              "  </div>\n",
              "  "
            ],
            "text/plain": [
              "      age confirmed_date\n",
              "2041  NaN            NaN\n",
              "4730  40s            NaN\n",
              "4731   0s            NaN\n",
              "4732  10s            NaN"
            ]
          },
          "metadata": {},
          "execution_count": 5
        }
      ]
    },
    {
      "cell_type": "code",
      "source": [
        "age_arr = age_arr.drop(axis = 0,index = [4730,4731,4732])\n",
        "age_arr"
      ],
      "metadata": {
        "colab": {
          "base_uri": "https://localhost:8080/",
          "height": 424
        },
        "id": "7LSTDc87MQUe",
        "outputId": "d1fa274f-103b-40b6-b7dd-d3644a88bfa6"
      },
      "execution_count": 6,
      "outputs": [
        {
          "output_type": "execute_result",
          "data": {
            "text/html": [
              "\n",
              "  <div id=\"df-26a3dd26-5d92-459e-a8e6-260ca653553f\">\n",
              "    <div class=\"colab-df-container\">\n",
              "      <div>\n",
              "<style scoped>\n",
              "    .dataframe tbody tr th:only-of-type {\n",
              "        vertical-align: middle;\n",
              "    }\n",
              "\n",
              "    .dataframe tbody tr th {\n",
              "        vertical-align: top;\n",
              "    }\n",
              "\n",
              "    .dataframe thead th {\n",
              "        text-align: right;\n",
              "    }\n",
              "</style>\n",
              "<table border=\"1\" class=\"dataframe\">\n",
              "  <thead>\n",
              "    <tr style=\"text-align: right;\">\n",
              "      <th></th>\n",
              "      <th>age</th>\n",
              "      <th>confirmed_date</th>\n",
              "    </tr>\n",
              "  </thead>\n",
              "  <tbody>\n",
              "    <tr>\n",
              "      <th>0</th>\n",
              "      <td>50s</td>\n",
              "      <td>2020-01-23</td>\n",
              "    </tr>\n",
              "    <tr>\n",
              "      <th>1</th>\n",
              "      <td>30s</td>\n",
              "      <td>2020-01-30</td>\n",
              "    </tr>\n",
              "    <tr>\n",
              "      <th>2</th>\n",
              "      <td>50s</td>\n",
              "      <td>2020-01-30</td>\n",
              "    </tr>\n",
              "    <tr>\n",
              "      <th>3</th>\n",
              "      <td>20s</td>\n",
              "      <td>2020-01-30</td>\n",
              "    </tr>\n",
              "    <tr>\n",
              "      <th>4</th>\n",
              "      <td>20s</td>\n",
              "      <td>2020-01-31</td>\n",
              "    </tr>\n",
              "    <tr>\n",
              "      <th>...</th>\n",
              "      <td>...</td>\n",
              "      <td>...</td>\n",
              "    </tr>\n",
              "    <tr>\n",
              "      <th>5160</th>\n",
              "      <td>30s</td>\n",
              "      <td>2020-05-30</td>\n",
              "    </tr>\n",
              "    <tr>\n",
              "      <th>5161</th>\n",
              "      <td>NaN</td>\n",
              "      <td>2020-06-16</td>\n",
              "    </tr>\n",
              "    <tr>\n",
              "      <th>5162</th>\n",
              "      <td>NaN</td>\n",
              "      <td>2020-06-18</td>\n",
              "    </tr>\n",
              "    <tr>\n",
              "      <th>5163</th>\n",
              "      <td>NaN</td>\n",
              "      <td>2020-06-18</td>\n",
              "    </tr>\n",
              "    <tr>\n",
              "      <th>5164</th>\n",
              "      <td>NaN</td>\n",
              "      <td>2020-06-18</td>\n",
              "    </tr>\n",
              "  </tbody>\n",
              "</table>\n",
              "<p>5162 rows × 2 columns</p>\n",
              "</div>\n",
              "      <button class=\"colab-df-convert\" onclick=\"convertToInteractive('df-26a3dd26-5d92-459e-a8e6-260ca653553f')\"\n",
              "              title=\"Convert this dataframe to an interactive table.\"\n",
              "              style=\"display:none;\">\n",
              "        \n",
              "  <svg xmlns=\"http://www.w3.org/2000/svg\" height=\"24px\"viewBox=\"0 0 24 24\"\n",
              "       width=\"24px\">\n",
              "    <path d=\"M0 0h24v24H0V0z\" fill=\"none\"/>\n",
              "    <path d=\"M18.56 5.44l.94 2.06.94-2.06 2.06-.94-2.06-.94-.94-2.06-.94 2.06-2.06.94zm-11 1L8.5 8.5l.94-2.06 2.06-.94-2.06-.94L8.5 2.5l-.94 2.06-2.06.94zm10 10l.94 2.06.94-2.06 2.06-.94-2.06-.94-.94-2.06-.94 2.06-2.06.94z\"/><path d=\"M17.41 7.96l-1.37-1.37c-.4-.4-.92-.59-1.43-.59-.52 0-1.04.2-1.43.59L10.3 9.45l-7.72 7.72c-.78.78-.78 2.05 0 2.83L4 21.41c.39.39.9.59 1.41.59.51 0 1.02-.2 1.41-.59l7.78-7.78 2.81-2.81c.8-.78.8-2.07 0-2.86zM5.41 20L4 18.59l7.72-7.72 1.47 1.35L5.41 20z\"/>\n",
              "  </svg>\n",
              "      </button>\n",
              "      \n",
              "  <style>\n",
              "    .colab-df-container {\n",
              "      display:flex;\n",
              "      flex-wrap:wrap;\n",
              "      gap: 12px;\n",
              "    }\n",
              "\n",
              "    .colab-df-convert {\n",
              "      background-color: #E8F0FE;\n",
              "      border: none;\n",
              "      border-radius: 50%;\n",
              "      cursor: pointer;\n",
              "      display: none;\n",
              "      fill: #1967D2;\n",
              "      height: 32px;\n",
              "      padding: 0 0 0 0;\n",
              "      width: 32px;\n",
              "    }\n",
              "\n",
              "    .colab-df-convert:hover {\n",
              "      background-color: #E2EBFA;\n",
              "      box-shadow: 0px 1px 2px rgba(60, 64, 67, 0.3), 0px 1px 3px 1px rgba(60, 64, 67, 0.15);\n",
              "      fill: #174EA6;\n",
              "    }\n",
              "\n",
              "    [theme=dark] .colab-df-convert {\n",
              "      background-color: #3B4455;\n",
              "      fill: #D2E3FC;\n",
              "    }\n",
              "\n",
              "    [theme=dark] .colab-df-convert:hover {\n",
              "      background-color: #434B5C;\n",
              "      box-shadow: 0px 1px 3px 1px rgba(0, 0, 0, 0.15);\n",
              "      filter: drop-shadow(0px 1px 2px rgba(0, 0, 0, 0.3));\n",
              "      fill: #FFFFFF;\n",
              "    }\n",
              "  </style>\n",
              "\n",
              "      <script>\n",
              "        const buttonEl =\n",
              "          document.querySelector('#df-26a3dd26-5d92-459e-a8e6-260ca653553f button.colab-df-convert');\n",
              "        buttonEl.style.display =\n",
              "          google.colab.kernel.accessAllowed ? 'block' : 'none';\n",
              "\n",
              "        async function convertToInteractive(key) {\n",
              "          const element = document.querySelector('#df-26a3dd26-5d92-459e-a8e6-260ca653553f');\n",
              "          const dataTable =\n",
              "            await google.colab.kernel.invokeFunction('convertToInteractive',\n",
              "                                                     [key], {});\n",
              "          if (!dataTable) return;\n",
              "\n",
              "          const docLinkHtml = 'Like what you see? Visit the ' +\n",
              "            '<a target=\"_blank\" href=https://colab.research.google.com/notebooks/data_table.ipynb>data table notebook</a>'\n",
              "            + ' to learn more about interactive tables.';\n",
              "          element.innerHTML = '';\n",
              "          dataTable['output_type'] = 'display_data';\n",
              "          await google.colab.output.renderOutput(dataTable, element);\n",
              "          const docLink = document.createElement('div');\n",
              "          docLink.innerHTML = docLinkHtml;\n",
              "          element.appendChild(docLink);\n",
              "        }\n",
              "      </script>\n",
              "    </div>\n",
              "  </div>\n",
              "  "
            ],
            "text/plain": [
              "      age confirmed_date\n",
              "0     50s     2020-01-23\n",
              "1     30s     2020-01-30\n",
              "2     50s     2020-01-30\n",
              "3     20s     2020-01-30\n",
              "4     20s     2020-01-31\n",
              "...   ...            ...\n",
              "5160  30s     2020-05-30\n",
              "5161  NaN     2020-06-16\n",
              "5162  NaN     2020-06-18\n",
              "5163  NaN     2020-06-18\n",
              "5164  NaN     2020-06-18\n",
              "\n",
              "[5162 rows x 2 columns]"
            ]
          },
          "metadata": {},
          "execution_count": 6
        }
      ]
    },
    {
      "cell_type": "code",
      "source": [
        "age_arr = pd.DataFrame(age_arr)\n",
        "age_arr = age_arr.dropna(axis=0)\n",
        "age_arr.info()"
      ],
      "metadata": {
        "colab": {
          "base_uri": "https://localhost:8080/"
        },
        "id": "l_STVj8iMyH4",
        "outputId": "7032b7bd-d6ab-439e-f407-194d4ddf94bb"
      },
      "execution_count": 7,
      "outputs": [
        {
          "output_type": "stream",
          "name": "stdout",
          "text": [
            "<class 'pandas.core.frame.DataFrame'>\n",
            "Int64Index: 3781 entries, 0 to 5160\n",
            "Data columns (total 2 columns):\n",
            " #   Column          Non-Null Count  Dtype \n",
            "---  ------          --------------  ----- \n",
            " 0   age             3781 non-null   object\n",
            " 1   confirmed_date  3781 non-null   object\n",
            "dtypes: object(2)\n",
            "memory usage: 88.6+ KB\n"
          ]
        }
      ]
    },
    {
      "cell_type": "code",
      "source": [
        "x_day =  pd.date_range('2020-01-20', '2020-06-30')"
      ],
      "metadata": {
        "id": "0hZEtL33M2WP"
      },
      "execution_count": 8,
      "outputs": []
    },
    {
      "cell_type": "code",
      "source": [
        "twenty = age_arr.groupby('age').get_group('20s')\n",
        "twenty[\"confirmed_date\"] = pd.to_datetime(twenty[\"confirmed_date\"])\n",
        "twenty.info()"
      ],
      "metadata": {
        "colab": {
          "base_uri": "https://localhost:8080/"
        },
        "id": "Oa_Cb9VYM4bt",
        "outputId": "0677dc22-99d9-4545-fbe7-b29ffa8ce65b"
      },
      "execution_count": 9,
      "outputs": [
        {
          "output_type": "stream",
          "name": "stdout",
          "text": [
            "<class 'pandas.core.frame.DataFrame'>\n",
            "Int64Index: 899 entries, 3 to 5157\n",
            "Data columns (total 2 columns):\n",
            " #   Column          Non-Null Count  Dtype         \n",
            "---  ------          --------------  -----         \n",
            " 0   age             899 non-null    object        \n",
            " 1   confirmed_date  899 non-null    datetime64[ns]\n",
            "dtypes: datetime64[ns](1), object(1)\n",
            "memory usage: 21.1+ KB\n"
          ]
        },
        {
          "output_type": "stream",
          "name": "stderr",
          "text": [
            "/usr/local/lib/python3.7/dist-packages/ipykernel_launcher.py:2: SettingWithCopyWarning: \n",
            "A value is trying to be set on a copy of a slice from a DataFrame.\n",
            "Try using .loc[row_indexer,col_indexer] = value instead\n",
            "\n",
            "See the caveats in the documentation: https://pandas.pydata.org/pandas-docs/stable/user_guide/indexing.html#returning-a-view-versus-a-copy\n",
            "  \n"
          ]
        }
      ]
    },
    {
      "cell_type": "code",
      "source": [
        "baby = age_arr.groupby('age').get_group('0s')\n",
        "baby[\"confirmed_date\"] = pd.to_datetime(teen[\"confirmed_date\"])\n",
        "y_baby = teen.groupby('confirmed_date').count()\n",
        "y_baby = y_baby.reindex(x_day, fill_value=0)\n",
        "y_baby = y_baby[\"age\"].cumsum()\n",
        "y_baby = y_baby.tolist()\n",
        "y_baby[:20]"
      ],
      "metadata": {
        "colab": {
          "base_uri": "https://localhost:8080/"
        },
        "id": "czJoQQJpM6Wt",
        "outputId": "73568a87-4c7f-41f8-c1d9-cc59b62c8478"
      },
      "execution_count": 12,
      "outputs": [
        {
          "output_type": "stream",
          "name": "stderr",
          "text": [
            "/usr/local/lib/python3.7/dist-packages/ipykernel_launcher.py:2: SettingWithCopyWarning: \n",
            "A value is trying to be set on a copy of a slice from a DataFrame.\n",
            "Try using .loc[row_indexer,col_indexer] = value instead\n",
            "\n",
            "See the caveats in the documentation: https://pandas.pydata.org/pandas-docs/stable/user_guide/indexing.html#returning-a-view-versus-a-copy\n",
            "  \n"
          ]
        },
        {
          "output_type": "execute_result",
          "data": {
            "text/plain": [
              "[0, 0, 0, 0, 0, 0, 0, 0, 0, 0, 0, 0, 0, 0, 0, 0, 0, 0, 0, 0]"
            ]
          },
          "metadata": {},
          "execution_count": 12
        }
      ]
    },
    {
      "cell_type": "code",
      "source": [
        "teen = age_arr.groupby('age').get_group('10s')\n",
        "teen[\"confirmed_date\"] = pd.to_datetime(teen[\"confirmed_date\"])\n",
        "y_teen = teen.groupby('confirmed_date').count()\n",
        "y_teen = y_teen.reindex(x_day, fill_value=0)\n",
        "y_teen = y_teen[\"age\"].cumsum()\n",
        "y_teen = y_teen.tolist()\n",
        "y_teen[:20]"
      ],
      "metadata": {
        "colab": {
          "base_uri": "https://localhost:8080/"
        },
        "id": "puDGB7XeM9Fm",
        "outputId": "60b29cbe-17fb-4ae6-bbca-415f384b8a25"
      },
      "execution_count": 11,
      "outputs": [
        {
          "output_type": "stream",
          "name": "stderr",
          "text": [
            "/usr/local/lib/python3.7/dist-packages/ipykernel_launcher.py:2: SettingWithCopyWarning: \n",
            "A value is trying to be set on a copy of a slice from a DataFrame.\n",
            "Try using .loc[row_indexer,col_indexer] = value instead\n",
            "\n",
            "See the caveats in the documentation: https://pandas.pydata.org/pandas-docs/stable/user_guide/indexing.html#returning-a-view-versus-a-copy\n",
            "  \n"
          ]
        },
        {
          "output_type": "execute_result",
          "data": {
            "text/plain": [
              "[0, 0, 0, 0, 0, 0, 0, 0, 0, 0, 0, 0, 0, 0, 0, 0, 0, 0, 0, 0]"
            ]
          },
          "metadata": {},
          "execution_count": 11
        }
      ]
    },
    {
      "cell_type": "code",
      "source": [
        "y_twenty = twenty.groupby('confirmed_date').count()\n",
        "y_twenty = y_twenty.reindex(x_day, fill_value=0)\n",
        "y_twenty = y_twenty[\"age\"].cumsum()\n",
        "y_twenty = y_twenty.tolist()\n",
        "y_twenty[:20]"
      ],
      "metadata": {
        "colab": {
          "base_uri": "https://localhost:8080/"
        },
        "id": "UAW642_8NHHW",
        "outputId": "221a9974-81eb-46a9-ad6b-5cc21e794154"
      },
      "execution_count": 13,
      "outputs": [
        {
          "output_type": "execute_result",
          "data": {
            "text/plain": [
              "[0, 0, 0, 0, 0, 0, 0, 0, 0, 0, 1, 3, 3, 4, 4, 4, 5, 5, 6, 6]"
            ]
          },
          "metadata": {},
          "execution_count": 13
        }
      ]
    },
    {
      "cell_type": "code",
      "source": [
        "thirty = age_arr.groupby('age').get_group('30s')\n",
        "thirty[\"confirmed_date\"] = pd.to_datetime(thirty[\"confirmed_date\"])\n",
        "y_thirty = thirty.groupby('confirmed_date').count()\n",
        "y_thirty = y_thirty.reindex(x_day, fill_value=0)\n",
        "y_thirty = y_thirty[\"age\"].cumsum()\n",
        "y_thirty = y_thirty.tolist()\n",
        "y_thirty[:20]"
      ],
      "metadata": {
        "colab": {
          "base_uri": "https://localhost:8080/"
        },
        "id": "8zpPhRyXNK0e",
        "outputId": "6da70f0f-6bbc-4703-f2c2-c7420c02468c"
      },
      "execution_count": 14,
      "outputs": [
        {
          "output_type": "stream",
          "name": "stderr",
          "text": [
            "/usr/local/lib/python3.7/dist-packages/ipykernel_launcher.py:2: SettingWithCopyWarning: \n",
            "A value is trying to be set on a copy of a slice from a DataFrame.\n",
            "Try using .loc[row_indexer,col_indexer] = value instead\n",
            "\n",
            "See the caveats in the documentation: https://pandas.pydata.org/pandas-docs/stable/user_guide/indexing.html#returning-a-view-versus-a-copy\n",
            "  \n"
          ]
        },
        {
          "output_type": "execute_result",
          "data": {
            "text/plain": [
              "[1, 1, 1, 1, 1, 1, 1, 1, 1, 1, 2, 2, 2, 2, 2, 2, 4, 4, 4, 4]"
            ]
          },
          "metadata": {},
          "execution_count": 14
        }
      ]
    },
    {
      "cell_type": "code",
      "source": [
        "fifty = age_arr.groupby('age').get_group('50s')\n",
        "fifty[\"confirmed_date\"] = pd.to_datetime(fifty[\"confirmed_date\"])\n",
        "y_fifty = fifty.groupby('confirmed_date').count()\n",
        "y_fifty = y_fifty.reindex(x_day, fill_value=0)\n",
        "y_fifty = y_fifty[\"age\"].cumsum()\n",
        "y_fifty = y_fifty.tolist()\n",
        "y_fifty[:20]"
      ],
      "metadata": {
        "colab": {
          "base_uri": "https://localhost:8080/"
        },
        "id": "1J-HL8gDN6T3",
        "outputId": "30f387c9-0fe8-4721-e631-5e5720db75cb"
      },
      "execution_count": 25,
      "outputs": [
        {
          "output_type": "stream",
          "name": "stderr",
          "text": [
            "/usr/local/lib/python3.7/dist-packages/ipykernel_launcher.py:2: SettingWithCopyWarning: \n",
            "A value is trying to be set on a copy of a slice from a DataFrame.\n",
            "Try using .loc[row_indexer,col_indexer] = value instead\n",
            "\n",
            "See the caveats in the documentation: https://pandas.pydata.org/pandas-docs/stable/user_guide/indexing.html#returning-a-view-versus-a-copy\n",
            "  \n"
          ]
        },
        {
          "output_type": "execute_result",
          "data": {
            "text/plain": [
              "[0, 0, 0, 1, 1, 1, 2, 3, 3, 3, 4, 5, 5, 5, 5, 5, 5, 6, 6, 6]"
            ]
          },
          "metadata": {},
          "execution_count": 25
        }
      ]
    },
    {
      "cell_type": "code",
      "source": [
        "sixty = age_arr.groupby('age').get_group('60s')\n",
        "sixty[\"confirmed_date\"] = pd.to_datetime(sixty[\"confirmed_date\"])\n",
        "y_sixty = sixty.groupby('confirmed_date').count()\n",
        "y_sixty = y_sixty.reindex(x_day, fill_value=0)\n",
        "y_sixty = y_sixty[\"age\"].cumsum()\n",
        "y_sixty = y_sixty.tolist()\n",
        "y_sixty[:20]"
      ],
      "metadata": {
        "colab": {
          "base_uri": "https://localhost:8080/"
        },
        "id": "Lr9IuYCDNNZu",
        "outputId": "c59871bd-fba5-4484-9ae4-3713851cdaed"
      },
      "execution_count": 15,
      "outputs": [
        {
          "output_type": "stream",
          "name": "stderr",
          "text": [
            "/usr/local/lib/python3.7/dist-packages/ipykernel_launcher.py:2: SettingWithCopyWarning: \n",
            "A value is trying to be set on a copy of a slice from a DataFrame.\n",
            "Try using .loc[row_indexer,col_indexer] = value instead\n",
            "\n",
            "See the caveats in the documentation: https://pandas.pydata.org/pandas-docs/stable/user_guide/indexing.html#returning-a-view-versus-a-copy\n",
            "  \n"
          ]
        },
        {
          "output_type": "execute_result",
          "data": {
            "text/plain": [
              "[0, 0, 0, 0, 0, 0, 0, 0, 0, 0, 1, 1, 1, 1, 1, 1, 2, 2, 2, 2]"
            ]
          },
          "metadata": {},
          "execution_count": 15
        }
      ]
    },
    {
      "cell_type": "code",
      "source": [
        "sevty = age_arr.groupby('age').get_group('70s')\n",
        "sevty[\"confirmed_date\"] = pd.to_datetime(sevty[\"confirmed_date\"])\n",
        "y_sevty = sevty.groupby('confirmed_date').count()\n",
        "y_sevty = y_sevty.reindex(x_day, fill_value=0)\n",
        "y_sevty = y_sevty[\"age\"].cumsum()\n",
        "y_sevty = y_sevty.tolist()\n",
        "y_sevty[:20]"
      ],
      "metadata": {
        "colab": {
          "base_uri": "https://localhost:8080/"
        },
        "id": "bZPgGQK6NPi2",
        "outputId": "655c8522-8aea-4831-c2e0-dbfa9565a9c1"
      },
      "execution_count": 16,
      "outputs": [
        {
          "output_type": "stream",
          "name": "stderr",
          "text": [
            "/usr/local/lib/python3.7/dist-packages/ipykernel_launcher.py:2: SettingWithCopyWarning: \n",
            "A value is trying to be set on a copy of a slice from a DataFrame.\n",
            "Try using .loc[row_indexer,col_indexer] = value instead\n",
            "\n",
            "See the caveats in the documentation: https://pandas.pydata.org/pandas-docs/stable/user_guide/indexing.html#returning-a-view-versus-a-copy\n",
            "  \n"
          ]
        },
        {
          "output_type": "execute_result",
          "data": {
            "text/plain": [
              "[0, 0, 0, 0, 0, 0, 0, 0, 0, 0, 0, 0, 0, 0, 0, 0, 0, 0, 0, 0]"
            ]
          },
          "metadata": {},
          "execution_count": 16
        }
      ]
    },
    {
      "cell_type": "code",
      "source": [
        "eigty = age_arr.groupby('age').get_group('80s')\n",
        "eigty[\"confirmed_date\"] = pd.to_datetime(eigty[\"confirmed_date\"])\n",
        "y_eigty = eigty.groupby('confirmed_date').count()\n",
        "y_eigty = y_eigty.reindex(x_day, fill_value=0)\n",
        "y_eigty = y_eigty[\"age\"].cumsum()\n",
        "y_eigty = y_eigty.tolist()\n",
        "y_eigty[:20]"
      ],
      "metadata": {
        "colab": {
          "base_uri": "https://localhost:8080/"
        },
        "id": "owYmoKdDNSge",
        "outputId": "389f9f01-f29b-4d4c-825b-5ff4ccd97827"
      },
      "execution_count": 17,
      "outputs": [
        {
          "output_type": "stream",
          "name": "stderr",
          "text": [
            "/usr/local/lib/python3.7/dist-packages/ipykernel_launcher.py:2: SettingWithCopyWarning: \n",
            "A value is trying to be set on a copy of a slice from a DataFrame.\n",
            "Try using .loc[row_indexer,col_indexer] = value instead\n",
            "\n",
            "See the caveats in the documentation: https://pandas.pydata.org/pandas-docs/stable/user_guide/indexing.html#returning-a-view-versus-a-copy\n",
            "  \n"
          ]
        },
        {
          "output_type": "execute_result",
          "data": {
            "text/plain": [
              "[0, 0, 0, 0, 0, 0, 0, 0, 0, 0, 0, 0, 0, 0, 0, 0, 0, 0, 0, 0]"
            ]
          },
          "metadata": {},
          "execution_count": 17
        }
      ]
    },
    {
      "cell_type": "code",
      "source": [
        "nigty = age_arr.groupby('age').get_group('90s')\n",
        "nigty[\"confirmed_date\"] = pd.to_datetime(nigty[\"confirmed_date\"])\n",
        "y_nigty = nigty.groupby('confirmed_date').count()\n",
        "y_nigty = y_nigty.reindex(x_day, fill_value=0)\n",
        "y_nigty = y_nigty[\"age\"].cumsum()\n",
        "y_nigty = y_nigty.tolist()\n",
        "y_nigty[:20]"
      ],
      "metadata": {
        "colab": {
          "base_uri": "https://localhost:8080/"
        },
        "id": "eA09DBfrNUve",
        "outputId": "754ef8ca-9b86-47a0-bc05-4e08d2dfa17c"
      },
      "execution_count": 18,
      "outputs": [
        {
          "output_type": "stream",
          "name": "stderr",
          "text": [
            "/usr/local/lib/python3.7/dist-packages/ipykernel_launcher.py:2: SettingWithCopyWarning: \n",
            "A value is trying to be set on a copy of a slice from a DataFrame.\n",
            "Try using .loc[row_indexer,col_indexer] = value instead\n",
            "\n",
            "See the caveats in the documentation: https://pandas.pydata.org/pandas-docs/stable/user_guide/indexing.html#returning-a-view-versus-a-copy\n",
            "  \n"
          ]
        },
        {
          "output_type": "execute_result",
          "data": {
            "text/plain": [
              "[0, 0, 0, 0, 0, 0, 0, 0, 0, 0, 0, 0, 0, 0, 0, 0, 0, 0, 0, 0]"
            ]
          },
          "metadata": {},
          "execution_count": 18
        }
      ]
    },
    {
      "cell_type": "code",
      "source": [
        "hun = age_arr.groupby('age').get_group('100s')\n",
        "hun[\"confirmed_date\"] = pd.to_datetime(hun[\"confirmed_date\"])\n",
        "y_hun = hun.groupby('confirmed_date').count()\n",
        "y_hun = y_hun.reindex(x_day, fill_value=0)\n",
        "y_hun = y_hun[\"age\"].cumsum()\n",
        "y_hun = y_hun.tolist()\n",
        "y_hun[:20]"
      ],
      "metadata": {
        "colab": {
          "base_uri": "https://localhost:8080/"
        },
        "id": "0bmLhmNVNWsO",
        "outputId": "89681cbe-0a70-46ed-ff47-29554e92acb1"
      },
      "execution_count": 19,
      "outputs": [
        {
          "output_type": "stream",
          "name": "stderr",
          "text": [
            "/usr/local/lib/python3.7/dist-packages/ipykernel_launcher.py:2: SettingWithCopyWarning: \n",
            "A value is trying to be set on a copy of a slice from a DataFrame.\n",
            "Try using .loc[row_indexer,col_indexer] = value instead\n",
            "\n",
            "See the caveats in the documentation: https://pandas.pydata.org/pandas-docs/stable/user_guide/indexing.html#returning-a-view-versus-a-copy\n",
            "  \n"
          ]
        },
        {
          "output_type": "execute_result",
          "data": {
            "text/plain": [
              "[0, 0, 0, 0, 0, 0, 0, 0, 0, 0, 0, 0, 0, 0, 0, 0, 0, 0, 0, 0]"
            ]
          },
          "metadata": {},
          "execution_count": 19
        }
      ]
    },
    {
      "cell_type": "code",
      "source": [
        "fourty = age_arr.groupby('age').get_group('40s')\n",
        "fourty[\"confirmed_date\"] = pd.to_datetime(fourty[\"confirmed_date\"])\n",
        "y_fourty = fourty.groupby('confirmed_date').count()\n",
        "y_fourty = y_fourty.reindex(x_day, fill_value=0)\n",
        "y_fourty = y_fourty[\"age\"].cumsum()\n",
        "y_fourty = y_fourty.tolist()\n",
        "y_fourty[:20]"
      ],
      "metadata": {
        "colab": {
          "base_uri": "https://localhost:8080/"
        },
        "id": "7s77W3ygNx_9",
        "outputId": "a87b508a-07db-4eb8-a0de-220688438606"
      },
      "execution_count": 23,
      "outputs": [
        {
          "output_type": "stream",
          "name": "stderr",
          "text": [
            "/usr/local/lib/python3.7/dist-packages/ipykernel_launcher.py:2: SettingWithCopyWarning: \n",
            "A value is trying to be set on a copy of a slice from a DataFrame.\n",
            "Try using .loc[row_indexer,col_indexer] = value instead\n",
            "\n",
            "See the caveats in the documentation: https://pandas.pydata.org/pandas-docs/stable/user_guide/indexing.html#returning-a-view-versus-a-copy\n",
            "  \n"
          ]
        },
        {
          "output_type": "execute_result",
          "data": {
            "text/plain": [
              "[0, 0, 0, 0, 0, 0, 0, 0, 0, 0, 0, 0, 1, 3, 4, 4, 5, 6, 6, 6]"
            ]
          },
          "metadata": {},
          "execution_count": 23
        }
      ]
    },
    {
      "cell_type": "code",
      "source": [
        "y_age=[]\n",
        "y_age.append(y_baby)\n",
        "y_age.append(y_teen)\n",
        "y_age.append(y_twenty)\n",
        "y_age.append(y_thirty)\n",
        "y_age.append(y_fourty)\n",
        "y_age.append(y_fifty)\n",
        "y_age.append(y_sixty)\n",
        "y_age.append(y_sevty)\n",
        "y_age.append(y_eigty)\n",
        "y_age.append(y_nigty)\n",
        "y_age.append(y_hun)"
      ],
      "metadata": {
        "id": "QQZIDlddNZvf"
      },
      "execution_count": 26,
      "outputs": []
    },
    {
      "cell_type": "code",
      "source": [
        "import matplotlib.pyplot as plt\n",
        "\n",
        "\n",
        "plt.figure(figsize=(20,10))\n",
        "plt.title(\"\"\"Cumulative Confirmed Case Graph of Ages\\n\"\"\" \"\"\"(ver2)\"\"\")\n",
        "\n",
        "plt.plot(x_day,y_baby,marker='o',label='0s') ## 선그래프 생성\n",
        "plt.plot(x_day,y_teen,marker='o',label='10s') \n",
        "plt.plot(x_day,y_twenty,marker='o',label='20s') \n",
        "plt.plot(x_day,y_thirty,marker='o',label='30s') \n",
        "plt.plot(x_day,y_fourty,marker='o',label='40s') \n",
        "plt.plot(x_day,y_fifty,marker='o',label='50s') \n",
        "plt.plot(x_day,y_sixty,marker='o',label='60s') \n",
        "plt.plot(x_day,y_sevty,marker='o',label='70s') \n",
        "plt.plot(x_day,y_eigty,marker='o',label='80s') \n",
        "plt.plot(x_day,y_nigty,marker='o',label='90s') \n",
        "plt.plot(x_day,y_hun,marker='o',label='100s', color='#ffff3f') \n",
        "\n",
        "\n",
        "plt.legend()\n",
        "plt.show()"
      ],
      "metadata": {
        "colab": {
          "base_uri": "https://localhost:8080/",
          "height": 455
        },
        "id": "UZ0Lqj74Nbr3",
        "outputId": "88b434b2-8346-46ce-9391-9ca64e1befd2"
      },
      "execution_count": 27,
      "outputs": [
        {
          "output_type": "display_data",
          "data": {
            "image/png": "[encoded data removed]",
            "text/plain": [
              "<Figure size 1440x720 with 1 Axes>"
            ]
          },
          "metadata": {
            "needs_background": "light"
          }
        }
      ]
    },
    {
      "cell_type": "markdown",
      "source": [
        ""
      ],
      "metadata": {
        "id": "KFnhsr3jOAPl"
      }
    }
  ]
}